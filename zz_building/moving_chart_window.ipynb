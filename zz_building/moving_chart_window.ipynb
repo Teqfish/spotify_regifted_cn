{
 "cells": [
  {
   "cell_type": "code",
   "execution_count": null,
   "id": "e2b71300",
   "metadata": {},
   "outputs": [],
   "source": [
    "import pandas as pd\n",
    "import plotly.express as px\n",
    "import numpy as np\n",
    "from datetime import datetime, timedelta\n",
    "import json\n",
    "import pickle\n",
    "\n",
    "charts_df = pd.read_csv(\"datasets/info_clean/info_charts_weighted.csv\")"
   ]
  },
  {
   "cell_type": "code",
   "execution_count": null,
   "id": "f2abcd24",
   "metadata": {},
   "outputs": [],
   "source": [
    "\n",
    "\n",
    "listening_df = pd.read_csv(\"datasets/user_clean/Charlie_20250603_131714.csv\")\n",
    "charts_df = pd.read_csv(\"datasets/info_clean/info_charts_weighted.csv\")\n",
    "\n",
    "def calculate_chart_listening_points(listening_df, charts_df, window_days=30):\n",
    "    \"\"\"\n",
    "    Calculate points for listening to chart songs within a rolling window.\n",
    "\n",
    "    Parameters:\n",
    "    - listening_df: DataFrame with columns ['datetime', 'artist_name', 'track_name']\n",
    "    - charts_df: DataFrame with columns ['weekdate', 'artist_name', 'track_name', 'position', 'weighting']\n",
    "    - window_days: Rolling window in days (default 30 for ~1 month)\n",
    "\n",
    "    Returns:\n",
    "    - DataFrame with listening instances and awarded points\n",
    "    \"\"\"\n",
    "\n",
    "    # Ensure datetime columns are properly formatted\n",
    "    listening_df = listening_df.copy()\n",
    "    charts_df = charts_df.copy()\n",
    "\n",
    "    listening_df['datetime'] = pd.to_datetime(listening_df['datetime'])\n",
    "    charts_df['weekdate'] = pd.to_datetime(charts_df['weekdate'])\n",
    "\n",
    "    # Create a list to store results\n",
    "    results = []\n",
    "\n",
    "    # For each listening instance\n",
    "    for idx, listen_row in listening_df.iterrows():\n",
    "        listen_datetime = listen_row['datetime']\n",
    "        artist = listen_row['artist_name']\n",
    "        track = listen_row['track_name']\n",
    "\n",
    "        # Define the rolling window (30 days before and after the listen date)\n",
    "        window_start = listen_datetime - timedelta(days=window_days)\n",
    "        window_end = listen_datetime + timedelta(days=window_days)\n",
    "\n",
    "        # Find matching chart entries within the window\n",
    "        chart_matches = charts_df[\n",
    "            (charts_df['artist_name'] == artist) &\n",
    "            (charts_df['track_name'] == track) &\n",
    "            (charts_df['weekdate'] >= window_start) &\n",
    "            (charts_df['weekdate'] <= window_end)\n",
    "        ]\n",
    "\n",
    "        # Calculate total points for this listening instance\n",
    "        total_points = chart_matches['weighting'].sum() if not chart_matches.empty else 0\n",
    "\n",
    "        # Store the result\n",
    "        result_row = {\n",
    "            'datetime': listen_datetime,\n",
    "            'artist_name': artist,\n",
    "            'track_name': track,\n",
    "            'points_awarded': total_points,\n",
    "            'chart_weeks_matched': len(chart_matches)\n",
    "        }\n",
    "\n",
    "        # Optional: Add details about which chart weeks were matched\n",
    "        if not chart_matches.empty:\n",
    "            result_row['chart_weeks_detail'] = chart_matches[['weekdate', 'position', 'weighting']].to_dict('records')\n",
    "        else:\n",
    "            result_row['chart_weeks_detail'] = []\n",
    "\n",
    "        results.append(result_row)\n",
    "\n",
    "    return pd.DataFrame(results)\n",
    "\n",
    "def calculate_listener_summary(points_df):\n",
    "    \"\"\"\n",
    "    Calculate summary statistics for the listener.\n",
    "\n",
    "    Parameters:\n",
    "    - points_df: DataFrame returned from calculate_chart_listening_points\n",
    "\n",
    "    Returns:\n",
    "    - Dictionary with summary statistics\n",
    "    \"\"\"\n",
    "\n",
    "    total_listens = len(points_df)\n",
    "    chart_listens = len(points_df[points_df['points_awarded'] > 0])\n",
    "    total_points = points_df['points_awarded'].sum()\n",
    "    avg_points_per_listen = points_df['points_awarded'].mean()\n",
    "\n",
    "    # Points by time period\n",
    "    points_df_copy = points_df.copy()\n",
    "    points_df_copy['date'] = points_df_copy['datetime'].dt.date\n",
    "    points_df_copy['week'] = points_df_copy['datetime'].dt.to_period('W')\n",
    "    points_df_copy['month'] = points_df_copy['datetime'].dt.to_period('M')\n",
    "\n",
    "    daily_points = points_df_copy.groupby('date')['points_awarded'].sum()\n",
    "    weekly_points = points_df_copy.groupby('week')['points_awarded'].sum()\n",
    "    monthly_points = points_df_copy.groupby('month')['points_awarded'].sum()\n",
    "\n",
    "    return {\n",
    "        'total_listening_instances': total_listens,\n",
    "        'chart_song_listens': chart_listens,\n",
    "        'chart_hit_rate': chart_listens / total_listens if total_listens > 0 else 0,\n",
    "        'total_points': total_points,\n",
    "        'average_points_per_listen': avg_points_per_listen,\n",
    "        'best_day_points': daily_points.max() if not daily_points.empty else 0,\n",
    "        'best_week_points': weekly_points.max() if not weekly_points.empty else 0,\n",
    "        'best_month_points': monthly_points.max() if not monthly_points.empty else 0\n",
    "    }\n",
    "\n",
    "def optimize_for_large_datasets(listening_df, charts_df, window_days=30):\n",
    "    \"\"\"\n",
    "    Optimized version for large datasets using vectorized operations.\n",
    "    More memory efficient but requires sufficient RAM.\n",
    "    \"\"\"\n",
    "\n",
    "    # Prepare data\n",
    "    listening_df = listening_df.copy()\n",
    "    charts_df = charts_df.copy()\n",
    "\n",
    "    listening_df['datetime'] = pd.to_datetime(listening_df['datetime'])\n",
    "    charts_df['weekdate'] = pd.to_datetime(charts_df['weekdate'])\n",
    "\n",
    "    # Create composite keys for faster matching\n",
    "    listening_df['song_key'] = listening_df['artist_name'] + '|||' + listening_df['track_name']\n",
    "    charts_df['song_key'] = charts_df['artist_name'] + '|||' + charts_df['track_name']\n",
    "\n",
    "    # Pre-filter charts to only songs that appear in listening history\n",
    "    relevant_songs = set(listening_df['song_key'].unique())\n",
    "    charts_filtered = charts_df[charts_df['song_key'].isin(relevant_songs)].copy()\n",
    "\n",
    "    results = []\n",
    "\n",
    "    # Group charts by song for faster lookup\n",
    "    charts_grouped = charts_filtered.groupby('song_key')\n",
    "\n",
    "    for song_key in relevant_songs:\n",
    "        if song_key not in charts_grouped.groups:\n",
    "            continue\n",
    "\n",
    "        song_charts = charts_grouped.get_group(song_key)\n",
    "        song_listens = listening_df[listening_df['song_key'] == song_key]\n",
    "\n",
    "        for _, listen_row in song_listens.iterrows():\n",
    "            listen_datetime = listen_row['datetime']\n",
    "\n",
    "            # Calculate window\n",
    "            window_start = listen_datetime - timedelta(days=window_days)\n",
    "            window_end = listen_datetime + timedelta(days=window_days)\n",
    "\n",
    "            # Find matching chart weeks\n",
    "            matching_weeks = song_charts[\n",
    "                (song_charts['weekdate'] >= window_start) &\n",
    "                (song_charts['weekdate'] <= window_end)\n",
    "            ]\n",
    "\n",
    "            total_points = matching_weeks['weighting'].sum() if not matching_weeks.empty else 0\n",
    "\n",
    "            results.append({\n",
    "                'datetime': listen_datetime,\n",
    "                'artist_name': listen_row['artist_name'],\n",
    "                'track_name': listen_row['track_name'],\n",
    "                'points_awarded': total_points,\n",
    "                'chart_weeks_matched': len(matching_weeks)\n",
    "            })\n",
    "\n",
    "    return pd.DataFrame(results)\n",
    "\n",
    "# Example usage and data preparation functions\n",
    "# def prepare_sample_data():\n",
    "    \"\"\"\n",
    "    Create sample data for testing the functions.\n",
    "    \"\"\"\n",
    "\n",
    "    # Sample listening data\n",
    "    listening_data = {\n",
    "        'datetime': [\n",
    "            '2024-01-15 14:30:25.123',\n",
    "            '2024-01-16 09:15:30.456',\n",
    "            '2024-01-20 20:45:10.789',\n",
    "            '2024-02-01 11:20:05.234',\n",
    "            '2024-02-15 16:35:45.567'\n",
    "        ],\n",
    "        'artist_name': ['Taylor Swift', 'Ed Sheeran', 'Billie Eilish', 'Taylor Swift', 'Drake'],\n",
    "        'track_name': ['Anti-Hero', 'Shape of You', 'Bad Guy', 'Shake It Off', 'God\\'s Plan']\n",
    "    }\n",
    "\n",
    "    # Sample chart data\n",
    "    chart_data = {\n",
    "        'weekdate': [\n",
    "            '2024-01-08', '2024-01-15', '2024-01-22',\n",
    "            '2024-01-08', '2024-01-15', '2024-01-22',\n",
    "            '2024-02-05', '2024-02-12', '2024-02-19'\n",
    "        ],\n",
    "        'artist_name': [\n",
    "            'Taylor Swift', 'Taylor Swift', 'Taylor Swift',\n",
    "            'Ed Sheeran', 'Ed Sheeran', 'Billie Eilish',\n",
    "            'Taylor Swift', 'Drake', 'Drake'\n",
    "        ],\n",
    "        'track_name': [\n",
    "            'Anti-Hero', 'Anti-Hero', 'Anti-Hero',\n",
    "            'Shape of You', 'Shape of You', 'Bad Guy',\n",
    "            'Shake It Off', 'God\\'s Plan', 'God\\'s Plan'\n",
    "        ],\n",
    "        'position': [1, 2, 5, 10, 15, 8, 25, 3, 7],\n",
    "        'weighting': [50, 49, 46, 41, 36, 43, 26, 48, 44]\n",
    "    }\n",
    "\n",
    "    listening_df = pd.DataFrame(listening_data)\n",
    "    charts_df = pd.DataFrame(chart_data)\n",
    "\n",
    "    return listening_df, charts_df\n",
    "\n",
    "# Main execution example\n",
    "# if __name__ == \"__main__\":\n",
    "    # Load your data (replace with your actual data loading)\n",
    "    # listening_df = pd.read_csv('your_listening_data.csv')\n",
    "    # charts_df = pd.read_csv('your_chart_data.csv')\n",
    "\n",
    "    # For demonstration, use sample data\n",
    "    listening_df, charts_df = prepare_sample_data()\n",
    "\n",
    "    print(\"Sample Listening Data:\")\n",
    "    print(listening_df.head())\n",
    "    print(\"\\nSample Chart Data:\")\n",
    "    print(charts_df.head())\n",
    "\n",
    "    # Calculate points\n",
    "    points_result = calculate_chart_listening_points(listening_df, charts_df, window_days=30)\n",
    "\n",
    "    print(\"\\nPoints Calculation Results:\")\n",
    "    print(points_result[['datetime', 'artist_name', 'track_name', 'points_awarded', 'chart_weeks_matched']])\n",
    "\n",
    "    # Get summary statistics\n",
    "    summary = calculate_listener_summary(points_result)\n",
    "\n",
    "    print(\"\\nListener Summary:\")\n",
    "    for key, value in summary.items():\n",
    "        if isinstance(value, float):\n",
    "            print(f\"{key}: {value:.2f}\")\n",
    "        else:\n",
    "            print(f\"{key}: {value}\")\n",
    "\n",
    "    # Show detailed breakdown for chart hits\n",
    "    chart_hits = points_result[points_result['points_awarded'] > 0]\n",
    "    if not chart_hits.empty:\n",
    "        print(f\"\\nDetailed Chart Hits ({len(chart_hits)} songs):\")\n",
    "        for idx, row in chart_hits.iterrows():\n",
    "            print(f\"\\n{row['datetime'].strftime('%Y-%m-%d %H:%M')}: {row['artist_name']} - {row['track_name']}\")\n",
    "            print(f\"  Points awarded: {row['points_awarded']}\")\n",
    "            print(f\"  Chart weeks matched: {row['chart_weeks_matched']}\")"
   ]
  },
  {
   "cell_type": "code",
   "execution_count": null,
   "id": "62e60c15",
   "metadata": {},
   "outputs": [],
   "source": [
    "charts_df = pd.read_csv(\"datasets/info_clean/info_charts_weighted.csv\")\n",
    "charts_df[\"weekdate\"] = pd.to_datetime(charts_df[\"weekdate\"], errors=\"raise\")\n",
    "charts_df.to_csv(\"datasets/info_clean/info_charts_weighted.csv\")"
   ]
  },
  {
   "cell_type": "code",
   "execution_count": null,
   "id": "66417940",
   "metadata": {},
   "outputs": [
    {
     "ename": "TypeError",
     "evalue": "Invalid comparison between dtype=datetime64[ns] and Timestamp",
     "output_type": "error",
     "traceback": [
      "\u001b[0;31m---------------------------------------------------------------------------\u001b[0m",
      "\u001b[0;31mTypeError\u001b[0m                                 Traceback (most recent call last)",
      "File \u001b[0;32m~/.pyenv/versions/3.12.9/envs/charlie-venv/lib/python3.12/site-packages/pandas/core/arrays/datetimelike.py:536\u001b[0m, in \u001b[0;36mDatetimeLikeArrayMixin._validate_comparison_value\u001b[0;34m(self, other)\u001b[0m\n\u001b[1;32m    535\u001b[0m \u001b[38;5;28;01mtry\u001b[39;00m:\n\u001b[0;32m--> 536\u001b[0m     \u001b[38;5;28;43mself\u001b[39;49m\u001b[38;5;241;43m.\u001b[39;49m\u001b[43m_check_compatible_with\u001b[49m\u001b[43m(\u001b[49m\u001b[43mother\u001b[49m\u001b[43m)\u001b[49m\n\u001b[1;32m    537\u001b[0m \u001b[38;5;28;01mexcept\u001b[39;00m (\u001b[38;5;167;01mTypeError\u001b[39;00m, IncompatibleFrequency) \u001b[38;5;28;01mas\u001b[39;00m err:\n\u001b[1;32m    538\u001b[0m     \u001b[38;5;66;03m# e.g. tzawareness mismatch\u001b[39;00m\n",
      "File \u001b[0;32m~/.pyenv/versions/3.12.9/envs/charlie-venv/lib/python3.12/site-packages/pandas/core/arrays/datetimes.py:540\u001b[0m, in \u001b[0;36mDatetimeArray._check_compatible_with\u001b[0;34m(self, other)\u001b[0m\n\u001b[1;32m    539\u001b[0m     \u001b[38;5;28;01mreturn\u001b[39;00m\n\u001b[0;32m--> 540\u001b[0m \u001b[38;5;28;43mself\u001b[39;49m\u001b[38;5;241;43m.\u001b[39;49m\u001b[43m_assert_tzawareness_compat\u001b[49m\u001b[43m(\u001b[49m\u001b[43mother\u001b[49m\u001b[43m)\u001b[49m\n",
      "File \u001b[0;32m~/.pyenv/versions/3.12.9/envs/charlie-venv/lib/python3.12/site-packages/pandas/core/arrays/datetimes.py:782\u001b[0m, in \u001b[0;36mDatetimeArray._assert_tzawareness_compat\u001b[0;34m(self, other)\u001b[0m\n\u001b[1;32m    781\u001b[0m     \u001b[38;5;28;01mif\u001b[39;00m other_tz \u001b[38;5;129;01mis\u001b[39;00m \u001b[38;5;129;01mnot\u001b[39;00m \u001b[38;5;28;01mNone\u001b[39;00m:\n\u001b[0;32m--> 782\u001b[0m         \u001b[38;5;28;01mraise\u001b[39;00m \u001b[38;5;167;01mTypeError\u001b[39;00m(\n\u001b[1;32m    783\u001b[0m             \u001b[38;5;124m\"\u001b[39m\u001b[38;5;124mCannot compare tz-naive and tz-aware datetime-like objects.\u001b[39m\u001b[38;5;124m\"\u001b[39m\n\u001b[1;32m    784\u001b[0m         )\n\u001b[1;32m    785\u001b[0m \u001b[38;5;28;01melif\u001b[39;00m other_tz \u001b[38;5;129;01mis\u001b[39;00m \u001b[38;5;28;01mNone\u001b[39;00m:\n",
      "\u001b[0;31mTypeError\u001b[0m: Cannot compare tz-naive and tz-aware datetime-like objects.",
      "\nThe above exception was the direct cause of the following exception:\n",
      "\u001b[0;31mInvalidComparison\u001b[0m                         Traceback (most recent call last)",
      "File \u001b[0;32m~/.pyenv/versions/3.12.9/envs/charlie-venv/lib/python3.12/site-packages/pandas/core/arrays/datetimelike.py:983\u001b[0m, in \u001b[0;36mDatetimeLikeArrayMixin._cmp_method\u001b[0;34m(self, other, op)\u001b[0m\n\u001b[1;32m    982\u001b[0m \u001b[38;5;28;01mtry\u001b[39;00m:\n\u001b[0;32m--> 983\u001b[0m     other \u001b[38;5;241m=\u001b[39m \u001b[38;5;28;43mself\u001b[39;49m\u001b[38;5;241;43m.\u001b[39;49m\u001b[43m_validate_comparison_value\u001b[49m\u001b[43m(\u001b[49m\u001b[43mother\u001b[49m\u001b[43m)\u001b[49m\n\u001b[1;32m    984\u001b[0m \u001b[38;5;28;01mexcept\u001b[39;00m InvalidComparison:\n",
      "File \u001b[0;32m~/.pyenv/versions/3.12.9/envs/charlie-venv/lib/python3.12/site-packages/pandas/core/arrays/datetimelike.py:539\u001b[0m, in \u001b[0;36mDatetimeLikeArrayMixin._validate_comparison_value\u001b[0;34m(self, other)\u001b[0m\n\u001b[1;32m    537\u001b[0m     \u001b[38;5;28;01mexcept\u001b[39;00m (\u001b[38;5;167;01mTypeError\u001b[39;00m, IncompatibleFrequency) \u001b[38;5;28;01mas\u001b[39;00m err:\n\u001b[1;32m    538\u001b[0m         \u001b[38;5;66;03m# e.g. tzawareness mismatch\u001b[39;00m\n\u001b[0;32m--> 539\u001b[0m         \u001b[38;5;28;01mraise\u001b[39;00m InvalidComparison(other) \u001b[38;5;28;01mfrom\u001b[39;00m\u001b[38;5;250m \u001b[39m\u001b[38;5;21;01merr\u001b[39;00m\n\u001b[1;32m    541\u001b[0m \u001b[38;5;28;01melif\u001b[39;00m \u001b[38;5;129;01mnot\u001b[39;00m is_list_like(other):\n",
      "\u001b[0;31mInvalidComparison\u001b[0m: 2024-12-04 14:07:41+00:00",
      "\nDuring handling of the above exception, another exception occurred:\n",
      "\u001b[0;31mTypeError\u001b[0m                                 Traceback (most recent call last)",
      "Cell \u001b[0;32mIn[38], line 167\u001b[0m\n\u001b[1;32m    164\u001b[0m     \u001b[38;5;28;01mreturn\u001b[39;00m filtered_df\n\u001b[1;32m    166\u001b[0m \u001b[38;5;66;03m# Call and display\u001b[39;00m\n\u001b[0;32m--> 167\u001b[0m points_result \u001b[38;5;241m=\u001b[39m \u001b[43mcalculate_chart_listening_points\u001b[49m\u001b[43m(\u001b[49m\u001b[43mlistening_df\u001b[49m\u001b[43m,\u001b[49m\u001b[43m \u001b[49m\u001b[43mcharts_df\u001b[49m\u001b[43m,\u001b[49m\u001b[43m \u001b[49m\u001b[43mwindow_days\u001b[49m\u001b[38;5;241;43m=\u001b[39;49m\u001b[43mwindow_size\u001b[49m\u001b[43m)\u001b[49m\n\u001b[1;32m    168\u001b[0m filtered_results \u001b[38;5;241m=\u001b[39m display_chart_points_results(points_result)\n\u001b[1;32m    169\u001b[0m points_result\n",
      "Cell \u001b[0;32mIn[38], line 28\u001b[0m, in \u001b[0;36mcalculate_chart_listening_points\u001b[0;34m(listening_df, charts_df, window_days)\u001b[0m\n\u001b[1;32m     22\u001b[0m window_start \u001b[38;5;241m=\u001b[39m listen_datetime \u001b[38;5;241m-\u001b[39m timedelta(days\u001b[38;5;241m=\u001b[39mwindow_days)\n\u001b[1;32m     23\u001b[0m window_end \u001b[38;5;241m=\u001b[39m listen_datetime\n\u001b[1;32m     25\u001b[0m chart_matches \u001b[38;5;241m=\u001b[39m charts_df[\n\u001b[1;32m     26\u001b[0m     (charts_df[\u001b[38;5;124m'\u001b[39m\u001b[38;5;124martist_name\u001b[39m\u001b[38;5;124m'\u001b[39m] \u001b[38;5;241m==\u001b[39m artist) \u001b[38;5;241m&\u001b[39m\n\u001b[1;32m     27\u001b[0m     (charts_df[\u001b[38;5;124m'\u001b[39m\u001b[38;5;124mtrack_name\u001b[39m\u001b[38;5;124m'\u001b[39m] \u001b[38;5;241m==\u001b[39m track) \u001b[38;5;241m&\u001b[39m\n\u001b[0;32m---> 28\u001b[0m     (\u001b[43mcharts_df\u001b[49m\u001b[43m[\u001b[49m\u001b[38;5;124;43m'\u001b[39;49m\u001b[38;5;124;43mweekdate\u001b[39;49m\u001b[38;5;124;43m'\u001b[39;49m\u001b[43m]\u001b[49m\u001b[43m \u001b[49m\u001b[38;5;241;43m>\u001b[39;49m\u001b[38;5;241;43m=\u001b[39;49m\u001b[43m \u001b[49m\u001b[43mwindow_start\u001b[49m) \u001b[38;5;241m&\u001b[39m\n\u001b[1;32m     29\u001b[0m     (charts_df[\u001b[38;5;124m'\u001b[39m\u001b[38;5;124mweekdate\u001b[39m\u001b[38;5;124m'\u001b[39m] \u001b[38;5;241m<\u001b[39m\u001b[38;5;241m=\u001b[39m window_end)\n\u001b[1;32m     30\u001b[0m ]\n\u001b[1;32m     32\u001b[0m total_points \u001b[38;5;241m=\u001b[39m chart_matches[\u001b[38;5;124m'\u001b[39m\u001b[38;5;124mweighting\u001b[39m\u001b[38;5;124m'\u001b[39m]\u001b[38;5;241m.\u001b[39msum() \u001b[38;5;28;01mif\u001b[39;00m \u001b[38;5;129;01mnot\u001b[39;00m chart_matches\u001b[38;5;241m.\u001b[39mempty \u001b[38;5;28;01melse\u001b[39;00m \u001b[38;5;241m0\u001b[39m\n\u001b[1;32m     34\u001b[0m result_row \u001b[38;5;241m=\u001b[39m {\n\u001b[1;32m     35\u001b[0m     \u001b[38;5;124m'\u001b[39m\u001b[38;5;124mdatetime\u001b[39m\u001b[38;5;124m'\u001b[39m: listen_datetime,\n\u001b[1;32m     36\u001b[0m     \u001b[38;5;124m'\u001b[39m\u001b[38;5;124martist_name\u001b[39m\u001b[38;5;124m'\u001b[39m: artist,\n\u001b[0;32m   (...)\u001b[0m\n\u001b[1;32m     40\u001b[0m     \u001b[38;5;124m'\u001b[39m\u001b[38;5;124mbest_position\u001b[39m\u001b[38;5;124m'\u001b[39m: chart_matches[\u001b[38;5;124m'\u001b[39m\u001b[38;5;124mposition\u001b[39m\u001b[38;5;124m'\u001b[39m]\u001b[38;5;241m.\u001b[39mmin() \u001b[38;5;28;01mif\u001b[39;00m \u001b[38;5;129;01mnot\u001b[39;00m chart_matches\u001b[38;5;241m.\u001b[39mempty \u001b[38;5;28;01melse\u001b[39;00m \u001b[38;5;28;01mNone\u001b[39;00m\n\u001b[1;32m     41\u001b[0m }\n",
      "File \u001b[0;32m~/.pyenv/versions/3.12.9/envs/charlie-venv/lib/python3.12/site-packages/pandas/core/ops/common.py:76\u001b[0m, in \u001b[0;36m_unpack_zerodim_and_defer.<locals>.new_method\u001b[0;34m(self, other)\u001b[0m\n\u001b[1;32m     72\u001b[0m             \u001b[38;5;28;01mreturn\u001b[39;00m \u001b[38;5;28mNotImplemented\u001b[39m\n\u001b[1;32m     74\u001b[0m other \u001b[38;5;241m=\u001b[39m item_from_zerodim(other)\n\u001b[0;32m---> 76\u001b[0m \u001b[38;5;28;01mreturn\u001b[39;00m \u001b[43mmethod\u001b[49m\u001b[43m(\u001b[49m\u001b[38;5;28;43mself\u001b[39;49m\u001b[43m,\u001b[49m\u001b[43m \u001b[49m\u001b[43mother\u001b[49m\u001b[43m)\u001b[49m\n",
      "File \u001b[0;32m~/.pyenv/versions/3.12.9/envs/charlie-venv/lib/python3.12/site-packages/pandas/core/arraylike.py:60\u001b[0m, in \u001b[0;36mOpsMixin.__ge__\u001b[0;34m(self, other)\u001b[0m\n\u001b[1;32m     58\u001b[0m \u001b[38;5;129m@unpack_zerodim_and_defer\u001b[39m(\u001b[38;5;124m\"\u001b[39m\u001b[38;5;124m__ge__\u001b[39m\u001b[38;5;124m\"\u001b[39m)\n\u001b[1;32m     59\u001b[0m \u001b[38;5;28;01mdef\u001b[39;00m\u001b[38;5;250m \u001b[39m\u001b[38;5;21m__ge__\u001b[39m(\u001b[38;5;28mself\u001b[39m, other):\n\u001b[0;32m---> 60\u001b[0m     \u001b[38;5;28;01mreturn\u001b[39;00m \u001b[38;5;28;43mself\u001b[39;49m\u001b[38;5;241;43m.\u001b[39;49m\u001b[43m_cmp_method\u001b[49m\u001b[43m(\u001b[49m\u001b[43mother\u001b[49m\u001b[43m,\u001b[49m\u001b[43m \u001b[49m\u001b[43moperator\u001b[49m\u001b[38;5;241;43m.\u001b[39;49m\u001b[43mge\u001b[49m\u001b[43m)\u001b[49m\n",
      "File \u001b[0;32m~/.pyenv/versions/3.12.9/envs/charlie-venv/lib/python3.12/site-packages/pandas/core/series.py:6119\u001b[0m, in \u001b[0;36mSeries._cmp_method\u001b[0;34m(self, other, op)\u001b[0m\n\u001b[1;32m   6116\u001b[0m lvalues \u001b[38;5;241m=\u001b[39m \u001b[38;5;28mself\u001b[39m\u001b[38;5;241m.\u001b[39m_values\n\u001b[1;32m   6117\u001b[0m rvalues \u001b[38;5;241m=\u001b[39m extract_array(other, extract_numpy\u001b[38;5;241m=\u001b[39m\u001b[38;5;28;01mTrue\u001b[39;00m, extract_range\u001b[38;5;241m=\u001b[39m\u001b[38;5;28;01mTrue\u001b[39;00m)\n\u001b[0;32m-> 6119\u001b[0m res_values \u001b[38;5;241m=\u001b[39m \u001b[43mops\u001b[49m\u001b[38;5;241;43m.\u001b[39;49m\u001b[43mcomparison_op\u001b[49m\u001b[43m(\u001b[49m\u001b[43mlvalues\u001b[49m\u001b[43m,\u001b[49m\u001b[43m \u001b[49m\u001b[43mrvalues\u001b[49m\u001b[43m,\u001b[49m\u001b[43m \u001b[49m\u001b[43mop\u001b[49m\u001b[43m)\u001b[49m\n\u001b[1;32m   6121\u001b[0m \u001b[38;5;28;01mreturn\u001b[39;00m \u001b[38;5;28mself\u001b[39m\u001b[38;5;241m.\u001b[39m_construct_result(res_values, name\u001b[38;5;241m=\u001b[39mres_name)\n",
      "File \u001b[0;32m~/.pyenv/versions/3.12.9/envs/charlie-venv/lib/python3.12/site-packages/pandas/core/ops/array_ops.py:330\u001b[0m, in \u001b[0;36mcomparison_op\u001b[0;34m(left, right, op)\u001b[0m\n\u001b[1;32m    321\u001b[0m         \u001b[38;5;28;01mraise\u001b[39;00m \u001b[38;5;167;01mValueError\u001b[39;00m(\n\u001b[1;32m    322\u001b[0m             \u001b[38;5;124m\"\u001b[39m\u001b[38;5;124mLengths must match to compare\u001b[39m\u001b[38;5;124m\"\u001b[39m, lvalues\u001b[38;5;241m.\u001b[39mshape, rvalues\u001b[38;5;241m.\u001b[39mshape\n\u001b[1;32m    323\u001b[0m         )\n\u001b[1;32m    325\u001b[0m \u001b[38;5;28;01mif\u001b[39;00m should_extension_dispatch(lvalues, rvalues) \u001b[38;5;129;01mor\u001b[39;00m (\n\u001b[1;32m    326\u001b[0m     (\u001b[38;5;28misinstance\u001b[39m(rvalues, (Timedelta, BaseOffset, Timestamp)) \u001b[38;5;129;01mor\u001b[39;00m right \u001b[38;5;129;01mis\u001b[39;00m NaT)\n\u001b[1;32m    327\u001b[0m     \u001b[38;5;129;01mand\u001b[39;00m lvalues\u001b[38;5;241m.\u001b[39mdtype \u001b[38;5;241m!=\u001b[39m \u001b[38;5;28mobject\u001b[39m\n\u001b[1;32m    328\u001b[0m ):\n\u001b[1;32m    329\u001b[0m     \u001b[38;5;66;03m# Call the method on lvalues\u001b[39;00m\n\u001b[0;32m--> 330\u001b[0m     res_values \u001b[38;5;241m=\u001b[39m \u001b[43mop\u001b[49m\u001b[43m(\u001b[49m\u001b[43mlvalues\u001b[49m\u001b[43m,\u001b[49m\u001b[43m \u001b[49m\u001b[43mrvalues\u001b[49m\u001b[43m)\u001b[49m\n\u001b[1;32m    332\u001b[0m \u001b[38;5;28;01melif\u001b[39;00m is_scalar(rvalues) \u001b[38;5;129;01mand\u001b[39;00m isna(rvalues):  \u001b[38;5;66;03m# TODO: but not pd.NA?\u001b[39;00m\n\u001b[1;32m    333\u001b[0m     \u001b[38;5;66;03m# numpy does not like comparisons vs None\u001b[39;00m\n\u001b[1;32m    334\u001b[0m     \u001b[38;5;28;01mif\u001b[39;00m op \u001b[38;5;129;01mis\u001b[39;00m operator\u001b[38;5;241m.\u001b[39mne:\n",
      "File \u001b[0;32m~/.pyenv/versions/3.12.9/envs/charlie-venv/lib/python3.12/site-packages/pandas/core/ops/common.py:76\u001b[0m, in \u001b[0;36m_unpack_zerodim_and_defer.<locals>.new_method\u001b[0;34m(self, other)\u001b[0m\n\u001b[1;32m     72\u001b[0m             \u001b[38;5;28;01mreturn\u001b[39;00m \u001b[38;5;28mNotImplemented\u001b[39m\n\u001b[1;32m     74\u001b[0m other \u001b[38;5;241m=\u001b[39m item_from_zerodim(other)\n\u001b[0;32m---> 76\u001b[0m \u001b[38;5;28;01mreturn\u001b[39;00m \u001b[43mmethod\u001b[49m\u001b[43m(\u001b[49m\u001b[38;5;28;43mself\u001b[39;49m\u001b[43m,\u001b[49m\u001b[43m \u001b[49m\u001b[43mother\u001b[49m\u001b[43m)\u001b[49m\n",
      "File \u001b[0;32m~/.pyenv/versions/3.12.9/envs/charlie-venv/lib/python3.12/site-packages/pandas/core/arraylike.py:60\u001b[0m, in \u001b[0;36mOpsMixin.__ge__\u001b[0;34m(self, other)\u001b[0m\n\u001b[1;32m     58\u001b[0m \u001b[38;5;129m@unpack_zerodim_and_defer\u001b[39m(\u001b[38;5;124m\"\u001b[39m\u001b[38;5;124m__ge__\u001b[39m\u001b[38;5;124m\"\u001b[39m)\n\u001b[1;32m     59\u001b[0m \u001b[38;5;28;01mdef\u001b[39;00m\u001b[38;5;250m \u001b[39m\u001b[38;5;21m__ge__\u001b[39m(\u001b[38;5;28mself\u001b[39m, other):\n\u001b[0;32m---> 60\u001b[0m     \u001b[38;5;28;01mreturn\u001b[39;00m \u001b[38;5;28;43mself\u001b[39;49m\u001b[38;5;241;43m.\u001b[39;49m\u001b[43m_cmp_method\u001b[49m\u001b[43m(\u001b[49m\u001b[43mother\u001b[49m\u001b[43m,\u001b[49m\u001b[43m \u001b[49m\u001b[43moperator\u001b[49m\u001b[38;5;241;43m.\u001b[39;49m\u001b[43mge\u001b[49m\u001b[43m)\u001b[49m\n",
      "File \u001b[0;32m~/.pyenv/versions/3.12.9/envs/charlie-venv/lib/python3.12/site-packages/pandas/core/arrays/datetimelike.py:985\u001b[0m, in \u001b[0;36mDatetimeLikeArrayMixin._cmp_method\u001b[0;34m(self, other, op)\u001b[0m\n\u001b[1;32m    983\u001b[0m     other \u001b[38;5;241m=\u001b[39m \u001b[38;5;28mself\u001b[39m\u001b[38;5;241m.\u001b[39m_validate_comparison_value(other)\n\u001b[1;32m    984\u001b[0m \u001b[38;5;28;01mexcept\u001b[39;00m InvalidComparison:\n\u001b[0;32m--> 985\u001b[0m     \u001b[38;5;28;01mreturn\u001b[39;00m \u001b[43minvalid_comparison\u001b[49m\u001b[43m(\u001b[49m\u001b[38;5;28;43mself\u001b[39;49m\u001b[43m,\u001b[49m\u001b[43m \u001b[49m\u001b[43mother\u001b[49m\u001b[43m,\u001b[49m\u001b[43m \u001b[49m\u001b[43mop\u001b[49m\u001b[43m)\u001b[49m\n\u001b[1;32m    987\u001b[0m dtype \u001b[38;5;241m=\u001b[39m \u001b[38;5;28mgetattr\u001b[39m(other, \u001b[38;5;124m\"\u001b[39m\u001b[38;5;124mdtype\u001b[39m\u001b[38;5;124m\"\u001b[39m, \u001b[38;5;28;01mNone\u001b[39;00m)\n\u001b[1;32m    988\u001b[0m \u001b[38;5;28;01mif\u001b[39;00m is_object_dtype(dtype):\n\u001b[1;32m    989\u001b[0m     \u001b[38;5;66;03m# We have to use comp_method_OBJECT_ARRAY instead of numpy\u001b[39;00m\n\u001b[1;32m    990\u001b[0m     \u001b[38;5;66;03m#  comparison otherwise it would raise when comparing to None\u001b[39;00m\n",
      "File \u001b[0;32m~/.pyenv/versions/3.12.9/envs/charlie-venv/lib/python3.12/site-packages/pandas/core/ops/invalid.py:40\u001b[0m, in \u001b[0;36minvalid_comparison\u001b[0;34m(left, right, op)\u001b[0m\n\u001b[1;32m     38\u001b[0m \u001b[38;5;28;01melse\u001b[39;00m:\n\u001b[1;32m     39\u001b[0m     typ \u001b[38;5;241m=\u001b[39m \u001b[38;5;28mtype\u001b[39m(right)\u001b[38;5;241m.\u001b[39m\u001b[38;5;18m__name__\u001b[39m\n\u001b[0;32m---> 40\u001b[0m     \u001b[38;5;28;01mraise\u001b[39;00m \u001b[38;5;167;01mTypeError\u001b[39;00m(\u001b[38;5;124mf\u001b[39m\u001b[38;5;124m\"\u001b[39m\u001b[38;5;124mInvalid comparison between dtype=\u001b[39m\u001b[38;5;132;01m{\u001b[39;00mleft\u001b[38;5;241m.\u001b[39mdtype\u001b[38;5;132;01m}\u001b[39;00m\u001b[38;5;124m and \u001b[39m\u001b[38;5;132;01m{\u001b[39;00mtyp\u001b[38;5;132;01m}\u001b[39;00m\u001b[38;5;124m\"\u001b[39m)\n\u001b[1;32m     41\u001b[0m \u001b[38;5;28;01mreturn\u001b[39;00m res_values\n",
      "\u001b[0;31mTypeError\u001b[0m: Invalid comparison between dtype=datetime64[ns] and Timestamp"
     ]
    }
   ],
   "source": [
    "# full raw page code\n",
    "elif page == \"Charlies Play Place\":\n",
    "    # Show current user info\n",
    "    user_selected = get_current_user(users)\n",
    "    st.info(f\"📊 Showing data for: **{user_selected}** (change user on Home page)\")\n",
    "\n",
    "    # Page title\n",
    "    st.markdown(\"<h1 style='text-align: center; color: #32CD32;'>Spotify Regifted</h1>\", unsafe_allow_html=True)\n",
    "\n",
    "    # Load data\n",
    "    listening_df = pd.read_csv(\"datasets/user_clean/ReRe_20250602_164123.csv\")\n",
    "    charts_df = pd.read_csv(\"datasets/info_clean/info_charts_weighted.csv\")\n",
    "\n",
    "    # Convert datetime columns\n",
    "    listening_df['datetime'] = pd.to_datetime(listening_df['datetime'])\n",
    "    charts_df['weekdate'] = pd.to_datetime(charts_df['weekdate'])\n",
    "\n",
    "    window_days = 30\n",
    "    results = []\n",
    "\n",
    "    # Calculate chart points\n",
    "    for idx, listen_row in listening_df.iterrows():\n",
    "        listen_datetime = pd.to_datetime(listen_row['datetime'])  # Force Timestamp\n",
    "        artist = listen_row['artist_name']\n",
    "        track = listen_row['track_name']\n",
    "\n",
    "        window_start = listen_datetime - timedelta(days=window_days)\n",
    "        window_end = listen_datetime + timedelta(days=window_days)\n",
    "\n",
    "        chart_matches = charts_df[\n",
    "            (charts_df['artist_name'] == artist) &\n",
    "            (charts_df['track_name'] == track) &\n",
    "            (charts_df['weekdate'] >= window_start) &\n",
    "            (charts_df['weekdate'] <= window_end)\n",
    "        ]\n",
    "\n",
    "        total_points = chart_matches['weighting'].sum() if not chart_matches.empty else 0\n",
    "\n",
    "        results.append({\n",
    "            'datetime': listen_datetime,\n",
    "            'artist_name': artist,\n",
    "            'track_name': track,\n",
    "            'points_awarded': total_points,\n",
    "            'chart_weeks_matched': len(chart_matches),\n",
    "            'best_position': chart_matches['position'].min() if not chart_matches.empty else None\n",
    "        })\n",
    "\n",
    "    points_df = pd.DataFrame(results)\n",
    "\n",
    "    # Summary metrics\n",
    "    total_listens = len(points_df)\n",
    "    chart_listens = len(points_df[points_df['points_awarded'] > 0])\n",
    "    total_points = points_df['points_awarded'].sum()\n",
    "    avg_points = points_df['points_awarded'].mean()\n",
    "    chart_hit_rate = chart_listens / total_listens if total_listens > 0 else 0\n",
    "\n",
    "    col1, col2, col3, col4 = st.columns(4)\n",
    "    with col1:\n",
    "        st.metric(\"Total Points\", f\"{total_points:,.0f}\")\n",
    "    with col2:\n",
    "        st.metric(\"Chart Hit Rate\", f\"{chart_hit_rate:.1%}\")\n",
    "    with col3:\n",
    "        st.metric(\"Chart Song Listens\", f\"{chart_listens:,}\")\n",
    "    with col4:\n",
    "        st.metric(\"Avg Points/Listen\", f\"{avg_points:.1f}\")\n",
    "\n",
    "    # Filter controls\n",
    "    st.subheader(\"Filter Results\")\n",
    "    col1, col2, col3 = st.columns(3)\n",
    "    with col1:\n",
    "        show_only_hits = st.checkbox(\"Show only chart hits\", value=False)\n",
    "    with col2:\n",
    "        min_points = st.number_input(\"Min points filter\", min_value=0, value=0)\n",
    "    with col3:\n",
    "        search_artist = st.text_input(\"Search artist\", placeholder=\"Enter artist name...\")\n",
    "\n",
    "    # Apply filters\n",
    "    filtered_df = points_df.copy()\n",
    "    if show_only_hits:\n",
    "        filtered_df = filtered_df[filtered_df['points_awarded'] > 0]\n",
    "    if min_points > 0:\n",
    "        filtered_df = filtered_df[filtered_df['points_awarded'] >= min_points]\n",
    "    if search_artist:\n",
    "        filtered_df = filtered_df[filtered_df['artist_name'].str.contains(search_artist, case=False, na=False)]\n",
    "\n",
    "    # Display results table\n",
    "    st.subheader(\"Detailed Results\")\n",
    "    display_df = filtered_df.copy()\n",
    "    display_df['datetime'] = display_df['datetime'].dt.strftime('%Y-%m-%d %H:%M:%S')\n",
    "    display_df = display_df.rename(columns={\n",
    "        'datetime': 'Listen Date/Time',\n",
    "        'artist_name': 'Artist',\n",
    "        'track_name': 'Track',\n",
    "        'points_awarded': 'Points',\n",
    "        'chart_weeks_matched': 'Chart Weeks',\n",
    "        'best_position': 'Best Position'\n",
    "    })\n",
    "\n",
    "    st.dataframe(\n",
    "        display_df[['Listen Date/Time', 'Artist', 'Track', 'Points', 'Chart Weeks', 'Best Position']],\n",
    "        use_container_width=True,\n",
    "        hide_index=True\n",
    "    )\n",
    "\n",
    "    st.caption(f\"Showing {len(filtered_df):,} of {len(points_df):,} listening instances\")\n",
    "\n",
    "    # Top-performing songs\n",
    "    chart_hits = points_df[points_df['points_awarded'] > 0]\n",
    "    if not chart_hits.empty:\n",
    "        st.subheader(\"Top Performing Songs\")\n",
    "        top_songs = chart_hits.groupby(['artist_name', 'track_name']).agg({\n",
    "            'points_awarded': 'sum',\n",
    "            'chart_weeks_matched': 'mean',\n",
    "            'datetime': 'count'\n",
    "        }).reset_index()\n",
    "        top_songs.columns = ['Artist', 'Track', 'Total Points', 'Avg Chart Weeks', 'Listen Count']\n",
    "        top_songs = top_songs.sort_values('Total Points', ascending=False).head(10)\n",
    "\n",
    "        st.dataframe(top_songs, use_container_width=True, hide_index=True)\n",
    "\n",
    "        # Charts\n",
    "        col1, col2 = st.columns(2)\n",
    "\n",
    "        with col1:\n",
    "            daily_points = chart_hits.copy()\n",
    "            daily_points['date'] = daily_points['datetime'].dt.date\n",
    "            daily_summary = daily_points.groupby('date')['points_awarded'].sum().reset_index()\n",
    "\n",
    "            fig_timeline = px.line(\n",
    "                daily_summary,\n",
    "                x='date',\n",
    "                y='points_awarded',\n",
    "                title='Points Earned Over Time',\n",
    "                labels={'points_awarded': 'Points', 'date': 'Date'}\n",
    "            )\n",
    "            st.plotly_chart(fig_timeline, use_container_width=True)\n",
    "\n",
    "        with col2:\n",
    "            artist_points = chart_hits.groupby('artist_name')['points_awarded'].sum().sort_values(ascending=True).tail(10)\n",
    "            fig_artists = px.bar(\n",
    "                x=artist_points.values,\n",
    "                y=artist_points.index,\n",
    "                orientation='h',\n",
    "                title='Top 10 Artists by Points',\n",
    "                labels={'x': 'Total Points', 'y': 'Artist'}\n",
    "            )\n",
    "            st.plotly_chart(fig_artists, use_container_width=True)\n"
   ]
  },
  {
   "cell_type": "code",
   "execution_count": null,
   "id": "65183fc7",
   "metadata": {},
   "outputs": [],
   "source": [
    "listening_df = pd.read_csv(\"datasets/user_clean/Charlie_20250603_131714.csv\")\n",
    "charts_df = pd.read_csv(\"datasets/info_clean/info_charts_weighted.csv\")\n",
    "\n",
    "# Clean and convert datetime columns\n",
    "listening_df[\"datetime\"] = pd.to_datetime(listening_df[\"datetime\"]).dt.tz_localize(None)\n",
    "charts_df['weekdate'] = pd.to_datetime(charts_df['weekdate'], errors='coerce')\n",
    "charts_df = charts_df.dropna(subset=['weekdate'])\n",
    "listening_df['artist_name'] = listening_df['artist_name'].fillna('').str.lower().str.strip()\n",
    "listening_df['track_name'] = listening_df['track_name'].fillna('').str.lower().str.strip()\n",
    "\n",
    "# # Sanity check\n",
    "# st.write(\"WEEKDATE dtype:\", charts_df['weekdate'].dtype)\n",
    "# st.write(\"listening date:\", listening_df['datetime'].dtype)\n",
    "# st.write(charts_df['weekdate'].head())\n",
    "# st.write(listening_df['datetime'].head())\n",
    "\n",
    "#     listening_df = listening_df.dropna(subset=['datetime'])\n",
    "\n",
    "window_size = 180\n",
    "results = []\n",
    "\n",
    "# Calculate chart points\n",
    "for idx, listen_row in listening_df.iterrows():\n",
    "    listen_datetime = listen_row['datetime']\n",
    "    artist = listen_row['artist_name']\n",
    "    track = listen_row['track_name']\n",
    "\n",
    "    # Convert window edges to pandas timestamps\n",
    "    window_start = pd.Timestamp(listen_datetime - timedelta(days=window_size))\n",
    "    window_end = pd.Timestamp(listen_datetime)\n",
    "\n",
    "    chart_matches = charts_df[\n",
    "        (charts_df['artist_name'] == artist) &\n",
    "        (charts_df['track_name'] == track) &\n",
    "        (charts_df['weekdate'] >= window_start) &\n",
    "        (charts_df['weekdate'] <= window_end)\n",
    "]\n",
    "\n",
    "    total_points = chart_matches['weighting'].sum() if not chart_matches.empty else 0\n",
    "\n",
    "    results.append({\n",
    "        'datetime': listen_datetime,\n",
    "        'artist_name': artist,\n",
    "        'track_name': track,\n",
    "        'points_awarded': total_points,\n",
    "        'chart_weeks_matched': len(chart_matches),\n",
    "        'best_position': chart_matches['position'].min() if not chart_matches.empty else None\n",
    "    })\n",
    "\n",
    "points_df = pd.DataFrame(results)\n",
    "\n",
    "# Summary metrics\n",
    "total_listens = len(points_df)\n",
    "chart_listens = len(points_df[points_df['points_awarded'] > 0])\n",
    "total_points = points_df['points_awarded'].sum()\n",
    "avg_points = points_df['points_awarded'].mean()\n",
    "chart_hit_rate = chart_listens / total_listens if total_listens > 0 else 0\n",
    "\n",
    "# col1, col2, col3, col4 = st.columns(4)\n",
    "# with col1:\n",
    "#     st.metric(\"Total Points\", f\"{total_points:,.0f}\")\n",
    "# with col2:\n",
    "#     st.metric(\"Chart Hit Rate\", f\"{chart_hit_rate:.1%}\")\n",
    "# with col3:\n",
    "#     st.metric(\"Chart Song Listens\", f\"{chart_listens:,}\")\n",
    "# with col4:\n",
    "#     st.metric(\"Avg Points/Listen\", f\"{avg_points:.1f}\")\n",
    "\n",
    "# Filter controls\n",
    "# st.subheader(\"Filter Results\")\n",
    "# col1, col2, col3 = st.columns(3)\n",
    "# with col1:\n",
    "#     show_only_hits = st.checkbox(\"Show only chart hits\", value=False)\n",
    "# with col2:\n",
    "#     min_points = st.number_input(\"Min points filter\", min_value=0, value=0)\n",
    "# with col3:\n",
    "#     search_artist = st.text_input(\"Search artist\", placeholder=\"Enter artist name...\")\n",
    "\n",
    "# Apply filters\n",
    "# filtered_df = points_df.copy()\n",
    "# if show_only_hits:\n",
    "#     filtered_df = filtered_df[filtered_df['points_awarded'] > 0]\n",
    "# if min_points > 0:\n",
    "#     filtered_df = filtered_df[filtered_df['points_awarded'] >= min_points]\n",
    "# if search_artist:\n",
    "#     filtered_df = filtered_df[filtered_df['artist_name'].str.contains(search_artist, case=False, na=False)]\n",
    "\n",
    "# # Display results table\n",
    "# st.subheader(\"Detailed Results\")\n",
    "# display_df = filtered_df.copy()\n",
    "# display_df['datetime'] = display_df['datetime'].dt.strftime('%Y-%m-%d %H:%M:%S')\n",
    "# display_df = display_df.rename(columns={\n",
    "#     'datetime': 'Listen Date/Time',\n",
    "#     'artist_name': 'Artist',\n",
    "#     'track_name': 'Track',\n",
    "#     'points_awarded': 'Points',\n",
    "#     'chart_weeks_matched': 'Chart Weeks',\n",
    "#     'best_position': 'Best Position'\n",
    "# })\n",
    "\n",
    "# st.dataframe(\n",
    "#     display_df[['Listen Date/Time', 'Artist', 'Track', 'Points', 'Chart Weeks', 'Best Position']],\n",
    "#     use_container_width=True,\n",
    "#     hide_index=True\n",
    "# )\n",
    "\n",
    "# st.caption(f\"Showing {len(filtered_df):,} of {len(points_df):,} listening instances\")\n",
    "\n",
    "# # Top-performing songs\n",
    "# chart_hits = points_df[points_df['points_awarded'] > 0]\n",
    "# if not chart_hits.empty:\n",
    "#     st.subheader(\"Top Performing Songs\")\n",
    "#     top_songs = chart_hits.groupby(['artist_name', 'track_name']).agg({\n",
    "#         'points_awarded': 'sum',\n",
    "#         'chart_weeks_matched': 'mean',\n",
    "#         'datetime': 'count'\n",
    "#     }).reset_index()\n",
    "#     top_songs.columns = ['Artist', 'Track', 'Total Points', 'Avg Chart Weeks', 'Listen Count']\n",
    "#     top_songs = top_songs.sort_values('Total Points', ascending=False).head(10)\n",
    "\n",
    "#     st.dataframe(top_songs, use_container_width=True, hide_index=True)\n",
    "\n",
    "#     # Charts\n",
    "#     col1, col2 = st.columns(2)\n",
    "\n",
    "#     with col1:\n",
    "#         daily_points = chart_hits.copy()\n",
    "#         daily_points['date'] = daily_points['datetime'].dt.date\n",
    "#         daily_summary = daily_points.groupby('date')['points_awarded'].sum().reset_index()\n",
    "\n",
    "#         fig_timeline = px.line(\n",
    "#             daily_summary,\n",
    "#             x='date',\n",
    "#             y='points_awarded',\n",
    "#             title='Points Earned Over Time',\n",
    "#             labels={'points_awarded': 'Points', 'date': 'Date'}\n",
    "#         )\n",
    "#         st.plotly_chart(fig_timeline, use_container_width=True)\n",
    "\n",
    "#     with col2:\n",
    "#         artist_points = chart_hits.groupby('artist_name')['points_awarded'].sum().sort_values(ascending=True).tail(10)\n",
    "#         fig_artists = px.bar(\n",
    "#             x=artist_points.values,\n",
    "#             y=artist_points.index,\n",
    "#             orientation='h',\n",
    "#             title='Top 10 Artists by Points',\n",
    "#             labels={'x': 'Total Points', 'y': 'Artist'}\n",
    "#         )\n",
    "#         st.plotly_chart(fig_artists, use_container_width=True)"
   ]
  },
  {
   "cell_type": "code",
   "execution_count": 75,
   "id": "f258c5e2",
   "metadata": {},
   "outputs": [
    {
     "name": "stdout",
     "output_type": "stream",
     "text": [
      "Chart hits listened: 3738\n",
      "Total points awarded: 802224\n",
      "Chart hit rate: 0.0316%\n"
     ]
    }
   ],
   "source": [
    "print(f'Chart hits listened: {chart_listens}')\n",
    "print(f'Total points awarded: {total_points}')\n",
    "print(f'Chart hit rate: {(round(chart_hit_rate,4))}%')"
   ]
  },
  {
   "cell_type": "code",
   "execution_count": 83,
   "id": "625ca918",
   "metadata": {},
   "outputs": [
    {
     "data": {
      "application/vnd.plotly.v1+json": {
       "config": {
        "plotlyServerURL": "https://plot.ly"
       },
       "data": [
        {
         "hovertemplate": "Date=%{x}<br>Points=%{y}<extra></extra>",
         "legendgroup": "",
         "line": {
          "color": "#636efa",
          "dash": "solid"
         },
         "marker": {
          "symbol": "circle"
         },
         "mode": "lines",
         "name": "",
         "orientation": "v",
         "showlegend": false,
         "type": "scatter",
         "x": [
          "2019-10-21",
          "2019-10-23",
          "2019-10-24",
          "2019-10-25",
          "2019-10-26",
          "2019-10-27",
          "2019-10-28",
          "2019-10-29",
          "2019-10-31",
          "2019-11-01",
          "2019-11-02",
          "2019-11-04",
          "2019-11-06",
          "2019-11-07",
          "2019-11-08",
          "2019-11-09",
          "2019-11-15",
          "2019-11-18",
          "2019-11-19",
          "2019-11-20",
          "2019-11-22",
          "2019-11-24",
          "2019-11-26",
          "2019-11-27",
          "2019-11-28",
          "2019-11-29",
          "2019-12-02",
          "2019-12-04",
          "2019-12-05",
          "2019-12-06",
          "2019-12-09",
          "2019-12-14",
          "2019-12-20",
          "2019-12-21",
          "2019-12-22",
          "2019-12-23",
          "2019-12-24",
          "2019-12-27",
          "2019-12-31",
          "2020-01-01",
          "2020-01-03",
          "2020-01-04",
          "2020-01-05",
          "2020-01-06",
          "2020-01-07",
          "2020-01-08",
          "2020-01-10",
          "2020-01-12",
          "2020-01-13",
          "2020-01-14",
          "2020-01-15",
          "2020-01-19",
          "2020-01-20",
          "2020-01-21",
          "2020-01-22",
          "2020-01-23",
          "2020-01-25",
          "2020-01-27",
          "2020-01-28",
          "2020-01-29",
          "2020-01-30",
          "2020-01-31",
          "2020-02-01",
          "2020-02-03",
          "2020-02-04",
          "2020-02-06",
          "2020-02-07",
          "2020-02-09",
          "2020-02-10",
          "2020-02-14",
          "2020-02-15",
          "2020-02-17",
          "2020-02-22",
          "2020-02-24",
          "2020-02-25",
          "2020-03-06",
          "2020-03-09",
          "2020-03-12",
          "2020-03-13",
          "2020-03-14",
          "2020-03-15",
          "2020-03-16",
          "2020-03-17",
          "2020-03-18",
          "2020-03-21",
          "2020-03-25",
          "2020-03-26",
          "2020-03-27",
          "2020-03-28",
          "2020-03-29",
          "2020-03-30",
          "2020-03-31",
          "2020-04-03",
          "2020-04-14",
          "2020-04-15",
          "2020-04-16",
          "2020-04-20",
          "2020-04-21",
          "2020-04-26",
          "2020-05-08",
          "2020-05-13",
          "2020-05-15",
          "2020-05-20",
          "2020-05-21",
          "2020-05-22",
          "2020-05-23",
          "2020-05-24",
          "2020-05-25",
          "2020-05-26",
          "2020-05-28",
          "2020-05-31",
          "2020-06-03",
          "2020-06-04",
          "2020-06-09",
          "2020-06-11",
          "2020-06-13",
          "2020-06-14",
          "2020-06-15",
          "2020-06-16",
          "2020-06-17",
          "2020-06-19",
          "2020-06-20",
          "2020-06-21",
          "2020-06-22",
          "2020-06-23",
          "2020-06-24",
          "2020-06-25",
          "2020-06-28",
          "2020-06-29",
          "2020-07-01",
          "2020-07-02",
          "2020-07-03",
          "2020-07-05",
          "2020-07-06",
          "2020-07-07",
          "2020-07-09",
          "2020-07-11",
          "2020-07-12",
          "2020-07-15",
          "2020-07-16",
          "2020-07-17",
          "2020-07-18",
          "2020-07-20",
          "2020-07-21",
          "2020-07-22",
          "2020-07-23",
          "2020-07-26",
          "2020-07-29",
          "2020-08-01",
          "2020-08-03",
          "2020-08-04",
          "2020-08-05",
          "2020-08-06",
          "2020-08-08",
          "2020-08-09",
          "2020-08-12",
          "2020-08-13",
          "2020-08-14",
          "2020-08-15",
          "2020-08-16",
          "2020-08-17",
          "2020-08-18",
          "2020-08-19",
          "2020-08-20",
          "2020-08-21",
          "2020-08-29",
          "2020-09-05",
          "2020-09-06",
          "2020-09-08",
          "2020-09-10",
          "2020-09-11",
          "2020-09-12",
          "2020-09-13",
          "2020-09-15",
          "2020-09-16",
          "2020-09-17",
          "2020-09-18",
          "2020-09-19",
          "2020-09-20",
          "2020-09-21",
          "2020-09-24",
          "2020-09-26",
          "2020-09-28",
          "2020-09-29",
          "2020-10-02",
          "2020-10-03",
          "2020-10-05",
          "2020-10-07",
          "2020-10-10",
          "2020-10-11",
          "2020-10-12",
          "2020-10-14",
          "2020-10-16",
          "2020-10-17",
          "2020-10-21",
          "2020-10-23",
          "2020-10-25",
          "2020-10-27",
          "2020-10-31",
          "2020-11-01",
          "2020-11-02",
          "2020-11-04",
          "2020-11-05",
          "2020-11-08",
          "2020-11-09",
          "2020-11-10",
          "2020-11-11",
          "2020-11-14",
          "2020-11-15",
          "2020-11-16",
          "2020-11-18",
          "2020-11-19",
          "2020-11-20",
          "2020-11-23",
          "2020-11-24",
          "2020-11-25",
          "2020-11-26",
          "2020-11-27",
          "2020-11-29",
          "2020-11-30",
          "2020-12-01",
          "2020-12-02",
          "2020-12-03",
          "2020-12-04",
          "2020-12-05",
          "2020-12-06",
          "2020-12-07",
          "2020-12-08",
          "2020-12-09",
          "2020-12-15",
          "2020-12-17",
          "2020-12-19",
          "2020-12-21",
          "2020-12-22",
          "2020-12-23",
          "2020-12-25",
          "2020-12-26",
          "2020-12-27",
          "2020-12-28",
          "2020-12-29",
          "2020-12-30",
          "2021-01-05",
          "2021-01-06",
          "2021-01-07",
          "2021-01-14",
          "2021-01-17",
          "2021-01-19",
          "2021-01-23",
          "2021-01-24",
          "2021-01-25",
          "2021-01-29",
          "2021-02-02",
          "2021-02-03",
          "2021-02-04",
          "2021-02-05",
          "2021-02-07",
          "2021-02-08",
          "2021-02-09",
          "2021-02-10",
          "2021-02-11",
          "2021-02-12",
          "2021-02-16",
          "2021-02-17",
          "2021-02-25",
          "2021-03-02",
          "2021-03-05",
          "2021-03-08",
          "2021-03-09",
          "2021-03-11",
          "2021-03-13",
          "2021-03-14",
          "2021-03-23",
          "2021-03-24",
          "2021-04-01",
          "2021-04-05",
          "2021-04-06",
          "2021-04-07",
          "2021-04-12",
          "2021-04-13",
          "2021-04-14",
          "2021-04-25",
          "2021-04-26",
          "2021-04-28",
          "2021-05-17",
          "2021-06-10",
          "2021-06-12",
          "2021-06-14",
          "2021-06-15",
          "2021-06-17",
          "2021-06-18",
          "2021-06-19",
          "2021-06-26",
          "2021-06-27",
          "2021-06-28",
          "2021-07-02",
          "2021-07-05",
          "2021-07-06",
          "2021-07-08",
          "2021-07-10",
          "2021-07-12",
          "2021-07-13",
          "2021-07-15",
          "2021-07-16",
          "2021-07-18",
          "2021-07-19",
          "2021-07-20",
          "2021-07-21",
          "2021-07-23",
          "2021-07-24",
          "2021-08-02",
          "2021-08-05",
          "2021-08-06",
          "2021-08-14",
          "2021-08-15",
          "2021-08-17",
          "2021-08-19",
          "2021-08-21",
          "2021-08-29",
          "2021-08-31",
          "2021-09-02",
          "2021-09-03",
          "2021-09-05",
          "2021-09-07",
          "2021-09-09",
          "2021-09-10",
          "2021-09-11",
          "2021-09-13",
          "2021-09-17",
          "2021-09-21",
          "2021-09-24",
          "2021-09-26",
          "2021-10-01",
          "2021-10-14",
          "2021-10-30",
          "2021-10-31",
          "2021-11-08",
          "2021-11-09",
          "2021-11-17",
          "2021-11-19",
          "2021-11-21",
          "2021-11-23",
          "2021-12-05",
          "2021-12-07",
          "2021-12-08",
          "2021-12-09",
          "2021-12-10",
          "2021-12-11",
          "2021-12-15",
          "2021-12-17",
          "2021-12-22",
          "2021-12-28",
          "2022-01-22",
          "2022-01-29",
          "2022-02-12",
          "2022-02-18",
          "2022-02-28",
          "2022-03-10",
          "2022-03-28",
          "2022-03-29",
          "2022-03-30",
          "2022-03-31",
          "2022-04-01",
          "2022-04-03",
          "2022-04-04",
          "2022-04-08",
          "2022-04-12",
          "2022-04-14",
          "2022-04-20",
          "2022-04-23",
          "2022-04-26",
          "2022-04-29",
          "2022-05-02",
          "2022-05-05",
          "2022-05-06",
          "2022-05-13",
          "2022-05-20",
          "2022-05-24",
          "2022-05-26",
          "2022-06-01",
          "2022-06-02",
          "2022-06-07",
          "2022-06-14",
          "2022-06-22",
          "2022-06-23",
          "2022-06-24",
          "2022-06-26",
          "2022-06-28",
          "2022-06-29",
          "2022-07-02",
          "2022-07-04",
          "2022-07-05",
          "2022-07-06",
          "2022-07-07",
          "2022-07-08",
          "2022-07-09",
          "2022-07-19",
          "2022-07-23",
          "2022-07-28",
          "2022-08-02",
          "2022-08-03",
          "2022-08-04",
          "2022-08-05",
          "2022-08-09",
          "2022-09-20",
          "2022-09-23",
          "2022-09-26",
          "2022-09-27",
          "2022-09-28",
          "2022-09-29",
          "2022-09-30",
          "2022-10-03",
          "2022-10-04",
          "2022-10-15",
          "2022-10-17",
          "2022-10-19",
          "2022-10-22",
          "2022-10-26",
          "2022-10-27",
          "2022-10-28",
          "2022-10-29",
          "2022-10-30",
          "2022-10-31",
          "2022-11-01",
          "2022-11-02",
          "2022-11-03",
          "2022-11-04",
          "2022-11-06",
          "2022-11-08",
          "2022-11-09",
          "2022-11-10",
          "2022-11-11",
          "2022-11-15",
          "2022-11-17",
          "2022-11-21",
          "2022-11-22",
          "2022-11-24",
          "2022-11-29",
          "2022-11-30",
          "2022-12-03",
          "2022-12-08",
          "2022-12-09",
          "2022-12-11",
          "2022-12-13",
          "2022-12-17",
          "2022-12-20",
          "2022-12-21",
          "2022-12-23",
          "2022-12-26",
          "2022-12-27",
          "2022-12-31",
          "2023-01-07",
          "2023-01-08",
          "2023-01-09",
          "2023-01-16",
          "2023-01-17",
          "2023-01-18",
          "2023-01-19",
          "2023-01-22",
          "2023-01-24",
          "2023-02-07",
          "2023-02-08",
          "2023-02-09",
          "2023-02-13",
          "2023-02-14",
          "2023-02-15",
          "2023-02-16",
          "2023-02-19",
          "2023-02-20",
          "2023-02-23",
          "2023-02-24",
          "2023-02-25",
          "2023-02-26",
          "2023-02-27",
          "2023-03-01",
          "2023-03-04",
          "2023-03-05",
          "2023-03-07",
          "2023-03-10",
          "2023-03-11",
          "2023-03-13",
          "2023-03-14",
          "2023-03-17",
          "2023-03-18",
          "2023-03-21",
          "2023-03-22",
          "2023-03-25",
          "2023-03-27",
          "2023-03-28",
          "2023-03-29",
          "2023-03-30",
          "2023-03-31",
          "2023-04-01",
          "2023-04-03",
          "2023-04-05",
          "2023-04-06",
          "2023-04-08",
          "2023-04-11",
          "2023-04-13",
          "2023-04-23",
          "2023-04-25",
          "2023-04-26",
          "2023-04-28",
          "2023-04-29",
          "2023-05-01",
          "2023-05-02",
          "2023-05-03",
          "2023-05-04",
          "2023-05-05",
          "2023-05-06",
          "2023-05-07",
          "2023-05-10",
          "2023-05-12",
          "2023-05-16",
          "2023-05-22",
          "2023-05-24",
          "2023-05-26",
          "2023-05-27",
          "2023-05-28",
          "2023-05-31",
          "2023-06-02",
          "2023-06-03",
          "2023-06-04",
          "2023-06-05",
          "2023-06-08",
          "2023-06-10",
          "2023-06-11",
          "2023-06-16",
          "2023-06-17",
          "2023-06-18",
          "2023-06-21",
          "2023-06-27",
          "2023-06-29",
          "2023-06-30",
          "2023-07-01",
          "2023-07-02",
          "2023-07-04",
          "2023-07-06",
          "2023-07-07",
          "2023-07-09",
          "2023-07-10",
          "2023-07-11",
          "2023-07-12",
          "2023-07-14",
          "2023-07-15",
          "2023-07-18",
          "2023-07-21",
          "2023-07-23",
          "2023-07-24",
          "2023-07-25",
          "2023-07-26",
          "2023-07-28",
          "2023-07-30",
          "2023-08-01",
          "2023-08-02",
          "2023-08-03",
          "2023-08-04",
          "2023-08-05",
          "2023-08-06",
          "2023-08-10",
          "2023-08-13",
          "2023-08-16",
          "2023-08-17",
          "2023-08-24",
          "2023-08-25",
          "2023-08-26",
          "2023-08-27",
          "2023-08-28",
          "2023-08-29",
          "2023-08-30",
          "2023-09-01",
          "2023-09-02",
          "2023-09-03",
          "2023-09-04",
          "2023-09-05",
          "2023-09-07",
          "2023-09-08",
          "2023-09-09",
          "2023-09-10",
          "2023-09-11",
          "2023-09-12",
          "2023-09-15",
          "2023-09-16",
          "2023-09-19",
          "2023-09-20",
          "2023-09-21",
          "2023-09-22",
          "2023-09-23",
          "2023-09-24",
          "2023-09-25",
          "2023-09-26",
          "2023-09-27",
          "2023-09-28",
          "2023-09-29",
          "2023-09-30",
          "2023-10-01",
          "2023-10-02",
          "2023-10-03",
          "2023-10-04",
          "2023-10-05",
          "2023-10-06",
          "2023-10-07",
          "2023-10-10",
          "2023-10-12",
          "2023-10-13",
          "2023-10-14",
          "2023-10-16",
          "2023-10-17",
          "2023-10-20",
          "2023-10-21",
          "2023-10-24",
          "2023-10-25",
          "2023-10-26",
          "2023-10-27",
          "2023-10-28",
          "2023-10-31",
          "2023-11-04",
          "2023-11-05",
          "2023-11-06",
          "2023-11-09",
          "2023-11-11",
          "2023-11-12",
          "2023-11-13",
          "2023-11-14",
          "2023-11-15",
          "2023-11-16",
          "2023-11-17",
          "2023-11-19",
          "2023-11-20",
          "2023-11-21",
          "2023-11-25",
          "2023-11-28",
          "2023-11-29",
          "2023-12-01",
          "2023-12-02",
          "2023-12-06",
          "2023-12-09",
          "2023-12-10",
          "2023-12-12",
          "2023-12-15",
          "2023-12-16",
          "2023-12-22",
          "2023-12-23",
          "2023-12-25",
          "2023-12-27",
          "2023-12-31",
          "2024-01-01",
          "2024-01-06",
          "2024-01-07",
          "2024-01-09",
          "2024-01-10",
          "2024-01-11",
          "2024-01-14",
          "2024-01-16",
          "2024-01-17",
          "2024-01-20",
          "2024-01-21",
          "2024-01-23",
          "2024-01-26",
          "2024-01-27",
          "2024-01-28",
          "2024-01-29",
          "2024-01-30",
          "2024-01-31",
          "2024-02-01",
          "2024-02-02",
          "2024-02-04",
          "2024-02-05",
          "2024-02-11",
          "2024-02-12",
          "2024-02-13",
          "2024-02-15",
          "2024-02-16",
          "2024-02-17",
          "2024-02-18",
          "2024-02-19",
          "2024-02-20",
          "2024-02-21",
          "2024-02-22",
          "2024-02-23",
          "2024-02-25",
          "2024-02-27",
          "2024-03-02",
          "2024-03-03",
          "2024-03-04",
          "2024-03-05",
          "2024-03-06",
          "2024-03-10",
          "2024-03-11",
          "2024-03-15",
          "2024-03-16",
          "2024-03-20",
          "2024-03-21",
          "2024-03-22",
          "2024-03-25",
          "2024-03-26",
          "2024-03-30",
          "2024-03-31",
          "2024-04-02",
          "2024-04-03",
          "2024-04-05",
          "2024-04-06",
          "2024-04-07",
          "2024-04-08",
          "2024-04-09",
          "2024-04-10",
          "2024-04-11",
          "2024-04-12",
          "2024-04-15",
          "2024-04-16",
          "2024-04-17",
          "2024-04-18",
          "2024-04-19",
          "2024-04-22",
          "2024-04-23",
          "2024-04-25",
          "2024-04-26",
          "2024-04-29",
          "2024-04-30",
          "2024-05-01",
          "2024-05-02",
          "2024-05-03",
          "2024-05-05",
          "2024-05-06",
          "2024-05-07",
          "2024-05-08",
          "2024-05-09",
          "2024-05-10",
          "2024-05-12",
          "2024-05-13",
          "2024-05-14",
          "2024-05-15",
          "2024-05-16",
          "2024-05-17",
          "2024-05-19",
          "2024-05-20",
          "2024-05-21",
          "2024-05-23",
          "2024-05-24",
          "2024-05-25",
          "2024-05-26",
          "2024-05-27",
          "2024-05-28",
          "2024-05-29",
          "2024-05-30",
          "2024-05-31",
          "2024-06-02",
          "2024-06-03",
          "2024-06-05",
          "2024-06-08",
          "2024-06-09",
          "2024-06-10",
          "2024-06-11",
          "2024-06-13",
          "2024-06-14",
          "2024-06-15",
          "2024-06-16",
          "2024-06-17",
          "2024-06-19",
          "2024-06-20",
          "2024-06-21",
          "2024-06-23",
          "2024-06-24",
          "2024-06-25",
          "2024-06-27",
          "2024-06-30",
          "2024-07-01",
          "2024-07-02",
          "2024-07-03",
          "2024-07-04",
          "2024-07-05",
          "2024-07-06",
          "2024-07-08",
          "2024-07-09",
          "2024-07-10",
          "2024-07-11",
          "2024-07-12",
          "2024-07-13",
          "2024-07-14",
          "2024-07-15",
          "2024-07-16",
          "2024-07-17",
          "2024-07-18",
          "2024-07-19",
          "2024-07-21",
          "2024-07-23",
          "2024-07-24",
          "2024-07-25",
          "2024-07-27",
          "2024-07-28",
          "2024-07-31",
          "2024-08-01",
          "2024-08-02",
          "2024-08-03",
          "2024-08-04",
          "2024-08-05",
          "2024-08-07",
          "2024-08-08",
          "2024-08-10",
          "2024-08-12",
          "2024-08-14",
          "2024-08-15",
          "2024-08-26",
          "2024-08-31",
          "2024-09-01",
          "2024-09-06",
          "2024-09-07",
          "2024-09-11",
          "2024-09-20",
          "2024-09-21",
          "2024-09-24",
          "2024-09-25",
          "2024-09-26",
          "2024-09-28",
          "2024-09-29",
          "2024-10-02",
          "2024-10-03",
          "2024-10-05",
          "2024-10-06",
          "2024-10-19",
          "2024-10-20",
          "2024-10-25",
          "2024-10-26",
          "2024-10-27",
          "2024-10-28",
          "2024-10-29",
          "2024-10-30",
          "2024-10-31",
          "2024-11-01",
          "2024-11-02",
          "2024-11-03",
          "2024-11-04",
          "2024-11-05",
          "2024-11-07",
          "2024-11-08",
          "2024-11-10",
          "2024-11-11",
          "2024-11-12",
          "2024-11-13",
          "2024-11-14",
          "2024-11-15",
          "2024-11-16",
          "2024-11-17",
          "2024-11-19",
          "2024-11-23",
          "2024-11-24",
          "2024-11-26",
          "2024-11-28",
          "2024-11-30",
          "2024-12-04",
          "2024-12-05",
          "2024-12-06",
          "2024-12-07",
          "2024-12-08",
          "2024-12-09",
          "2024-12-10",
          "2024-12-11",
          "2024-12-13",
          "2024-12-14",
          "2024-12-15",
          "2024-12-16",
          "2024-12-17",
          "2024-12-22",
          "2024-12-23",
          "2024-12-24",
          "2024-12-26",
          "2024-12-27",
          "2024-12-28",
          "2024-12-29",
          "2024-12-31",
          "2025-01-02",
          "2025-01-03",
          "2025-01-10",
          "2025-01-12",
          "2025-01-13",
          "2025-01-14",
          "2025-01-16",
          "2025-01-17",
          "2025-01-19",
          "2025-01-31",
          "2025-02-01",
          "2025-02-02",
          "2025-02-03",
          "2025-02-04",
          "2025-02-05",
          "2025-02-08",
          "2025-02-09",
          "2025-02-11",
          "2025-02-12",
          "2025-02-13",
          "2025-02-14",
          "2025-02-15",
          "2025-02-16",
          "2025-02-17",
          "2025-02-20",
          "2025-02-21",
          "2025-02-23",
          "2025-02-24",
          "2025-02-25",
          "2025-02-26",
          "2025-02-27",
          "2025-02-28",
          "2025-03-02",
          "2025-03-04",
          "2025-03-05",
          "2025-03-06",
          "2025-03-08",
          "2025-03-09",
          "2025-03-10",
          "2025-03-14",
          "2025-03-16",
          "2025-03-20",
          "2025-03-29",
          "2025-03-30",
          "2025-03-31",
          "2025-04-13",
          "2025-04-14",
          "2025-04-17",
          "2025-04-19",
          "2025-04-20",
          "2025-05-04",
          "2025-05-12",
          "2025-05-13",
          "2025-05-14",
          "2025-05-16",
          "2025-05-19",
          "2025-05-20"
         ],
         "xaxis": "x",
         "y": [
          184,
          10,
          1316,
          2112,
          218,
          2958,
          573,
          2429,
          138,
          4992,
          23,
          1016,
          2163,
          157,
          2755,
          558,
          333,
          1895,
          2959,
          968,
          652,
          144,
          5469,
          1360,
          215,
          762,
          307,
          483,
          325,
          724,
          2049,
          326,
          1108,
          249,
          400,
          3016,
          326,
          1110,
          1738,
          307,
          943,
          564,
          338,
          42,
          2035,
          4583,
          3224,
          3035,
          606,
          867,
          1678,
          786,
          135,
          146,
          7,
          753,
          322,
          408,
          477,
          400,
          868,
          644,
          389,
          1184,
          3399,
          173,
          381,
          276,
          219,
          677,
          255,
          565,
          45,
          458,
          350,
          40,
          54,
          14,
          115,
          137,
          54,
          54,
          9,
          94,
          17,
          431,
          390,
          124,
          91,
          389,
          864,
          1,
          2503,
          6514,
          134,
          3176,
          3163,
          1217,
          772,
          788,
          250,
          125,
          501,
          134,
          139,
          376,
          3633,
          795,
          795,
          652,
          332,
          1357,
          1127,
          527,
          1986,
          772,
          355,
          358,
          376,
          376,
          134,
          134,
          62,
          62,
          3002,
          2665,
          969,
          58,
          232,
          178,
          104,
          371,
          64,
          197,
          6,
          81,
          58,
          1027,
          241,
          104,
          69,
          23,
          127,
          69,
          413,
          332,
          183,
          1131,
          23,
          157,
          592,
          166,
          8,
          23,
          61,
          148,
          457,
          2605,
          1433,
          159,
          237,
          295,
          2183,
          224,
          154,
          36,
          314,
          280,
          86,
          43,
          330,
          108,
          108,
          769,
          10,
          1478,
          67,
          939,
          199,
          75,
          436,
          571,
          359,
          1857,
          292,
          146,
          292,
          297,
          421,
          146,
          885,
          433,
          1330,
          287,
          433,
          579,
          574,
          574,
          641,
          565,
          1454,
          287,
          579,
          742,
          334,
          213,
          1376,
          175,
          118,
          292,
          690,
          362,
          567,
          353,
          401,
          893,
          745,
          858,
          189,
          1113,
          98,
          439,
          196,
          156,
          331,
          2490,
          658,
          614,
          835,
          146,
          836,
          211,
          14,
          132,
          398,
          662,
          290,
          503,
          963,
          36,
          564,
          812,
          119,
          736,
          97,
          390,
          245,
          300,
          100,
          300,
          300,
          200,
          600,
          150,
          1769,
          703,
          400,
          800,
          925,
          400,
          750,
          369,
          1075,
          300,
          350,
          400,
          2195,
          91,
          400,
          30,
          10,
          378,
          10,
          1210,
          1685,
          1875,
          2572,
          330,
          1217,
          566,
          369,
          5,
          607,
          98,
          788,
          1037,
          199,
          199,
          199,
          357,
          688,
          100,
          724,
          282,
          398,
          50,
          1631,
          50,
          122,
          211,
          200,
          497,
          215,
          198,
          2702,
          716,
          596,
          296,
          524,
          581,
          250,
          300,
          92,
          92,
          1052,
          274,
          276,
          1024,
          614,
          915,
          1139,
          1687,
          354,
          1529,
          493,
          712,
          712,
          814,
          1499,
          688,
          1023,
          1198,
          884,
          900,
          38,
          38,
          38,
          3513,
          1581,
          143,
          1076,
          67,
          2823,
          46,
          2242,
          345,
          1259,
          1160,
          1154,
          180,
          345,
          580,
          580,
          429,
          475,
          397,
          187,
          5446,
          1945,
          3120,
          1029,
          1427,
          343,
          542,
          296,
          592,
          502,
          414,
          506,
          207,
          324,
          39,
          119,
          119,
          77,
          882,
          74,
          3,
          1,
          48,
          121,
          106,
          2,
          2,
          1,
          1,
          1,
          1,
          2203,
          41,
          22,
          106,
          21,
          1,
          1,
          45,
          90,
          71,
          45,
          45,
          982,
          93,
          45,
          98,
          35,
          35,
          88,
          35,
          53,
          133,
          185,
          122,
          125,
          125,
          204,
          294,
          160,
          2212,
          1838,
          18,
          826,
          556,
          64,
          572,
          468,
          1915,
          418,
          144,
          390,
          393,
          150,
          54,
          150,
          54,
          893,
          200,
          817,
          460,
          998,
          273,
          583,
          1045,
          583,
          45,
          237,
          1019,
          90,
          171,
          1141,
          255,
          734,
          127,
          127,
          526,
          18,
          836,
          46,
          623,
          112,
          667,
          342,
          30,
          15,
          1586,
          713,
          4206,
          1060,
          2120,
          1060,
          43,
          53,
          10,
          1474,
          1978,
          35,
          10,
          516,
          40,
          30,
          20,
          10,
          20,
          10,
          1282,
          10,
          1753,
          116,
          1344,
          917,
          917,
          165,
          275,
          295,
          398,
          2867,
          72,
          1388,
          1134,
          1439,
          1041,
          1974,
          772,
          86,
          97,
          861,
          194,
          97,
          670,
          1531,
          292,
          1535,
          10,
          281,
          96,
          86,
          86,
          1038,
          1475,
          161,
          194,
          1315,
          122,
          1178,
          158,
          42,
          272,
          84,
          12,
          6,
          6,
          98,
          48,
          48,
          48,
          6,
          6,
          419,
          236,
          1283,
          392,
          104,
          251,
          1176,
          98,
          98,
          712,
          318,
          147,
          1018,
          958,
          392,
          221,
          221,
          42,
          42,
          510,
          964,
          33,
          242,
          329,
          289,
          289,
          401,
          427,
          4151,
          186,
          40,
          511,
          385,
          1050,
          435,
          1496,
          1084,
          513,
          2136,
          113,
          1027,
          1718,
          1089,
          673,
          356,
          45,
          87,
          1704,
          1404,
          1814,
          114,
          638,
          1087,
          267,
          1412,
          557,
          42,
          243,
          2044,
          579,
          1162,
          787,
          14,
          418,
          986,
          236,
          1134,
          266,
          1115,
          4,
          583,
          736,
          1108,
          441,
          226,
          227,
          24,
          1150,
          366,
          582,
          1073,
          413,
          1190,
          256,
          748,
          270,
          1865,
          2374,
          1387,
          318,
          636,
          318,
          2490,
          366,
          1958,
          2345,
          324,
          6,
          883,
          620,
          1073,
          882,
          211,
          555,
          580,
          921,
          5083,
          3905,
          641,
          19,
          587,
          129,
          121,
          612,
          129,
          6,
          129,
          2073,
          1493,
          831,
          657,
          354,
          1426,
          1076,
          350,
          129,
          990,
          350,
          2170,
          980,
          446,
          109,
          271,
          271,
          542,
          318,
          857,
          1493,
          318,
          80,
          700,
          318,
          999,
          903,
          366,
          154,
          1961,
          415,
          6,
          1422,
          926,
          1329,
          1018,
          509,
          697,
          609,
          6,
          379,
          49,
          1352,
          605,
          605,
          605,
          781,
          511,
          35,
          1980,
          1710,
          16,
          1541,
          703,
          919,
          280,
          1624,
          280,
          2623,
          190,
          190,
          1117,
          1081,
          2925,
          1715,
          2701,
          1451,
          3164,
          1664,
          5016,
          2654,
          773,
          949,
          6625,
          2,
          664,
          1193,
          1972,
          2747,
          6702,
          328,
          3613,
          667,
          117,
          828,
          342,
          350,
          1077,
          1858,
          465,
          390,
          426,
          2070,
          2308,
          253,
          1127,
          280,
          2321,
          2589,
          805,
          5079,
          7289,
          6633,
          1744,
          3441,
          5698,
          1360,
          2195,
          6649,
          1130,
          2597,
          1217,
          1476,
          1752,
          4894,
          315,
          2989,
          2437,
          4820,
          5714,
          2999,
          4635,
          4313,
          8916,
          4019,
          382,
          2661,
          4426,
          617,
          4889,
          66,
          501,
          541,
          120,
          2337,
          538,
          3723,
          4339,
          1861,
          3055,
          2125,
          5912,
          573,
          1020,
          665,
          481,
          1864,
          4444,
          408,
          3838,
          703,
          68,
          24,
          10,
          3850,
          3365,
          1252,
          448,
          13,
          1855,
          1046,
          99,
          16,
          947,
          55,
          159,
          799,
          365,
          365,
          1864,
          730,
          365,
          2593,
          38,
          38,
          76,
          415,
          415,
          415,
          415,
          464,
          2210,
          1301,
          2997,
          1068,
          1012,
          571,
          444,
          1833,
          29,
          562,
          954,
          707,
          602,
          864,
          1898,
          3589,
          3731,
          1556,
          1316,
          421,
          100,
          32,
          644,
          968,
          102,
          32,
          1716,
          1092,
          2331,
          344,
          319,
          420,
          84,
          873,
          168,
          1901,
          168,
          1874,
          323,
          323,
          38,
          48,
          889,
          33,
          1216,
          2098,
          1264,
          68,
          313,
          84,
          2394,
          38,
          526,
          1988,
          462,
          697,
          44,
          1398,
          132,
          1126,
          1224,
          635,
          603,
          1011,
          1585,
          991,
          876,
          584,
          1041,
          1394,
          872,
          1214,
          1237,
          175,
          623,
          38,
          1488,
          1202,
          519,
          550,
          199,
          853,
          942,
          59,
          474,
          2913,
          624,
          2447,
          1248,
          1173,
          9,
          1394
         ],
         "yaxis": "y"
        }
       ],
       "layout": {
        "legend": {
         "tracegroupgap": 0
        },
        "template": {
         "data": {
          "bar": [
           {
            "error_x": {
             "color": "#2a3f5f"
            },
            "error_y": {
             "color": "#2a3f5f"
            },
            "marker": {
             "line": {
              "color": "#E5ECF6",
              "width": 0.5
             },
             "pattern": {
              "fillmode": "overlay",
              "size": 10,
              "solidity": 0.2
             }
            },
            "type": "bar"
           }
          ],
          "barpolar": [
           {
            "marker": {
             "line": {
              "color": "#E5ECF6",
              "width": 0.5
             },
             "pattern": {
              "fillmode": "overlay",
              "size": 10,
              "solidity": 0.2
             }
            },
            "type": "barpolar"
           }
          ],
          "carpet": [
           {
            "aaxis": {
             "endlinecolor": "#2a3f5f",
             "gridcolor": "white",
             "linecolor": "white",
             "minorgridcolor": "white",
             "startlinecolor": "#2a3f5f"
            },
            "baxis": {
             "endlinecolor": "#2a3f5f",
             "gridcolor": "white",
             "linecolor": "white",
             "minorgridcolor": "white",
             "startlinecolor": "#2a3f5f"
            },
            "type": "carpet"
           }
          ],
          "choropleth": [
           {
            "colorbar": {
             "outlinewidth": 0,
             "ticks": ""
            },
            "type": "choropleth"
           }
          ],
          "contour": [
           {
            "colorbar": {
             "outlinewidth": 0,
             "ticks": ""
            },
            "colorscale": [
             [
              0,
              "#0d0887"
             ],
             [
              0.1111111111111111,
              "#46039f"
             ],
             [
              0.2222222222222222,
              "#7201a8"
             ],
             [
              0.3333333333333333,
              "#9c179e"
             ],
             [
              0.4444444444444444,
              "#bd3786"
             ],
             [
              0.5555555555555556,
              "#d8576b"
             ],
             [
              0.6666666666666666,
              "#ed7953"
             ],
             [
              0.7777777777777778,
              "#fb9f3a"
             ],
             [
              0.8888888888888888,
              "#fdca26"
             ],
             [
              1,
              "#f0f921"
             ]
            ],
            "type": "contour"
           }
          ],
          "contourcarpet": [
           {
            "colorbar": {
             "outlinewidth": 0,
             "ticks": ""
            },
            "type": "contourcarpet"
           }
          ],
          "heatmap": [
           {
            "colorbar": {
             "outlinewidth": 0,
             "ticks": ""
            },
            "colorscale": [
             [
              0,
              "#0d0887"
             ],
             [
              0.1111111111111111,
              "#46039f"
             ],
             [
              0.2222222222222222,
              "#7201a8"
             ],
             [
              0.3333333333333333,
              "#9c179e"
             ],
             [
              0.4444444444444444,
              "#bd3786"
             ],
             [
              0.5555555555555556,
              "#d8576b"
             ],
             [
              0.6666666666666666,
              "#ed7953"
             ],
             [
              0.7777777777777778,
              "#fb9f3a"
             ],
             [
              0.8888888888888888,
              "#fdca26"
             ],
             [
              1,
              "#f0f921"
             ]
            ],
            "type": "heatmap"
           }
          ],
          "heatmapgl": [
           {
            "colorbar": {
             "outlinewidth": 0,
             "ticks": ""
            },
            "colorscale": [
             [
              0,
              "#0d0887"
             ],
             [
              0.1111111111111111,
              "#46039f"
             ],
             [
              0.2222222222222222,
              "#7201a8"
             ],
             [
              0.3333333333333333,
              "#9c179e"
             ],
             [
              0.4444444444444444,
              "#bd3786"
             ],
             [
              0.5555555555555556,
              "#d8576b"
             ],
             [
              0.6666666666666666,
              "#ed7953"
             ],
             [
              0.7777777777777778,
              "#fb9f3a"
             ],
             [
              0.8888888888888888,
              "#fdca26"
             ],
             [
              1,
              "#f0f921"
             ]
            ],
            "type": "heatmapgl"
           }
          ],
          "histogram": [
           {
            "marker": {
             "pattern": {
              "fillmode": "overlay",
              "size": 10,
              "solidity": 0.2
             }
            },
            "type": "histogram"
           }
          ],
          "histogram2d": [
           {
            "colorbar": {
             "outlinewidth": 0,
             "ticks": ""
            },
            "colorscale": [
             [
              0,
              "#0d0887"
             ],
             [
              0.1111111111111111,
              "#46039f"
             ],
             [
              0.2222222222222222,
              "#7201a8"
             ],
             [
              0.3333333333333333,
              "#9c179e"
             ],
             [
              0.4444444444444444,
              "#bd3786"
             ],
             [
              0.5555555555555556,
              "#d8576b"
             ],
             [
              0.6666666666666666,
              "#ed7953"
             ],
             [
              0.7777777777777778,
              "#fb9f3a"
             ],
             [
              0.8888888888888888,
              "#fdca26"
             ],
             [
              1,
              "#f0f921"
             ]
            ],
            "type": "histogram2d"
           }
          ],
          "histogram2dcontour": [
           {
            "colorbar": {
             "outlinewidth": 0,
             "ticks": ""
            },
            "colorscale": [
             [
              0,
              "#0d0887"
             ],
             [
              0.1111111111111111,
              "#46039f"
             ],
             [
              0.2222222222222222,
              "#7201a8"
             ],
             [
              0.3333333333333333,
              "#9c179e"
             ],
             [
              0.4444444444444444,
              "#bd3786"
             ],
             [
              0.5555555555555556,
              "#d8576b"
             ],
             [
              0.6666666666666666,
              "#ed7953"
             ],
             [
              0.7777777777777778,
              "#fb9f3a"
             ],
             [
              0.8888888888888888,
              "#fdca26"
             ],
             [
              1,
              "#f0f921"
             ]
            ],
            "type": "histogram2dcontour"
           }
          ],
          "mesh3d": [
           {
            "colorbar": {
             "outlinewidth": 0,
             "ticks": ""
            },
            "type": "mesh3d"
           }
          ],
          "parcoords": [
           {
            "line": {
             "colorbar": {
              "outlinewidth": 0,
              "ticks": ""
             }
            },
            "type": "parcoords"
           }
          ],
          "pie": [
           {
            "automargin": true,
            "type": "pie"
           }
          ],
          "scatter": [
           {
            "fillpattern": {
             "fillmode": "overlay",
             "size": 10,
             "solidity": 0.2
            },
            "type": "scatter"
           }
          ],
          "scatter3d": [
           {
            "line": {
             "colorbar": {
              "outlinewidth": 0,
              "ticks": ""
             }
            },
            "marker": {
             "colorbar": {
              "outlinewidth": 0,
              "ticks": ""
             }
            },
            "type": "scatter3d"
           }
          ],
          "scattercarpet": [
           {
            "marker": {
             "colorbar": {
              "outlinewidth": 0,
              "ticks": ""
             }
            },
            "type": "scattercarpet"
           }
          ],
          "scattergeo": [
           {
            "marker": {
             "colorbar": {
              "outlinewidth": 0,
              "ticks": ""
             }
            },
            "type": "scattergeo"
           }
          ],
          "scattergl": [
           {
            "marker": {
             "colorbar": {
              "outlinewidth": 0,
              "ticks": ""
             }
            },
            "type": "scattergl"
           }
          ],
          "scattermapbox": [
           {
            "marker": {
             "colorbar": {
              "outlinewidth": 0,
              "ticks": ""
             }
            },
            "type": "scattermapbox"
           }
          ],
          "scatterpolar": [
           {
            "marker": {
             "colorbar": {
              "outlinewidth": 0,
              "ticks": ""
             }
            },
            "type": "scatterpolar"
           }
          ],
          "scatterpolargl": [
           {
            "marker": {
             "colorbar": {
              "outlinewidth": 0,
              "ticks": ""
             }
            },
            "type": "scatterpolargl"
           }
          ],
          "scatterternary": [
           {
            "marker": {
             "colorbar": {
              "outlinewidth": 0,
              "ticks": ""
             }
            },
            "type": "scatterternary"
           }
          ],
          "surface": [
           {
            "colorbar": {
             "outlinewidth": 0,
             "ticks": ""
            },
            "colorscale": [
             [
              0,
              "#0d0887"
             ],
             [
              0.1111111111111111,
              "#46039f"
             ],
             [
              0.2222222222222222,
              "#7201a8"
             ],
             [
              0.3333333333333333,
              "#9c179e"
             ],
             [
              0.4444444444444444,
              "#bd3786"
             ],
             [
              0.5555555555555556,
              "#d8576b"
             ],
             [
              0.6666666666666666,
              "#ed7953"
             ],
             [
              0.7777777777777778,
              "#fb9f3a"
             ],
             [
              0.8888888888888888,
              "#fdca26"
             ],
             [
              1,
              "#f0f921"
             ]
            ],
            "type": "surface"
           }
          ],
          "table": [
           {
            "cells": {
             "fill": {
              "color": "#EBF0F8"
             },
             "line": {
              "color": "white"
             }
            },
            "header": {
             "fill": {
              "color": "#C8D4E3"
             },
             "line": {
              "color": "white"
             }
            },
            "type": "table"
           }
          ]
         },
         "layout": {
          "annotationdefaults": {
           "arrowcolor": "#2a3f5f",
           "arrowhead": 0,
           "arrowwidth": 1
          },
          "autotypenumbers": "strict",
          "coloraxis": {
           "colorbar": {
            "outlinewidth": 0,
            "ticks": ""
           }
          },
          "colorscale": {
           "diverging": [
            [
             0,
             "#8e0152"
            ],
            [
             0.1,
             "#c51b7d"
            ],
            [
             0.2,
             "#de77ae"
            ],
            [
             0.3,
             "#f1b6da"
            ],
            [
             0.4,
             "#fde0ef"
            ],
            [
             0.5,
             "#f7f7f7"
            ],
            [
             0.6,
             "#e6f5d0"
            ],
            [
             0.7,
             "#b8e186"
            ],
            [
             0.8,
             "#7fbc41"
            ],
            [
             0.9,
             "#4d9221"
            ],
            [
             1,
             "#276419"
            ]
           ],
           "sequential": [
            [
             0,
             "#0d0887"
            ],
            [
             0.1111111111111111,
             "#46039f"
            ],
            [
             0.2222222222222222,
             "#7201a8"
            ],
            [
             0.3333333333333333,
             "#9c179e"
            ],
            [
             0.4444444444444444,
             "#bd3786"
            ],
            [
             0.5555555555555556,
             "#d8576b"
            ],
            [
             0.6666666666666666,
             "#ed7953"
            ],
            [
             0.7777777777777778,
             "#fb9f3a"
            ],
            [
             0.8888888888888888,
             "#fdca26"
            ],
            [
             1,
             "#f0f921"
            ]
           ],
           "sequentialminus": [
            [
             0,
             "#0d0887"
            ],
            [
             0.1111111111111111,
             "#46039f"
            ],
            [
             0.2222222222222222,
             "#7201a8"
            ],
            [
             0.3333333333333333,
             "#9c179e"
            ],
            [
             0.4444444444444444,
             "#bd3786"
            ],
            [
             0.5555555555555556,
             "#d8576b"
            ],
            [
             0.6666666666666666,
             "#ed7953"
            ],
            [
             0.7777777777777778,
             "#fb9f3a"
            ],
            [
             0.8888888888888888,
             "#fdca26"
            ],
            [
             1,
             "#f0f921"
            ]
           ]
          },
          "colorway": [
           "#636efa",
           "#EF553B",
           "#00cc96",
           "#ab63fa",
           "#FFA15A",
           "#19d3f3",
           "#FF6692",
           "#B6E880",
           "#FF97FF",
           "#FECB52"
          ],
          "font": {
           "color": "#2a3f5f"
          },
          "geo": {
           "bgcolor": "white",
           "lakecolor": "white",
           "landcolor": "#E5ECF6",
           "showlakes": true,
           "showland": true,
           "subunitcolor": "white"
          },
          "hoverlabel": {
           "align": "left"
          },
          "hovermode": "closest",
          "mapbox": {
           "style": "light"
          },
          "paper_bgcolor": "white",
          "plot_bgcolor": "#E5ECF6",
          "polar": {
           "angularaxis": {
            "gridcolor": "white",
            "linecolor": "white",
            "ticks": ""
           },
           "bgcolor": "#E5ECF6",
           "radialaxis": {
            "gridcolor": "white",
            "linecolor": "white",
            "ticks": ""
           }
          },
          "scene": {
           "xaxis": {
            "backgroundcolor": "#E5ECF6",
            "gridcolor": "white",
            "gridwidth": 2,
            "linecolor": "white",
            "showbackground": true,
            "ticks": "",
            "zerolinecolor": "white"
           },
           "yaxis": {
            "backgroundcolor": "#E5ECF6",
            "gridcolor": "white",
            "gridwidth": 2,
            "linecolor": "white",
            "showbackground": true,
            "ticks": "",
            "zerolinecolor": "white"
           },
           "zaxis": {
            "backgroundcolor": "#E5ECF6",
            "gridcolor": "white",
            "gridwidth": 2,
            "linecolor": "white",
            "showbackground": true,
            "ticks": "",
            "zerolinecolor": "white"
           }
          },
          "shapedefaults": {
           "line": {
            "color": "#2a3f5f"
           }
          },
          "ternary": {
           "aaxis": {
            "gridcolor": "white",
            "linecolor": "white",
            "ticks": ""
           },
           "baxis": {
            "gridcolor": "white",
            "linecolor": "white",
            "ticks": ""
           },
           "bgcolor": "#E5ECF6",
           "caxis": {
            "gridcolor": "white",
            "linecolor": "white",
            "ticks": ""
           }
          },
          "title": {
           "x": 0.05
          },
          "xaxis": {
           "automargin": true,
           "gridcolor": "white",
           "linecolor": "white",
           "ticks": "",
           "title": {
            "standoff": 15
           },
           "zerolinecolor": "white",
           "zerolinewidth": 2
          },
          "yaxis": {
           "automargin": true,
           "gridcolor": "white",
           "linecolor": "white",
           "ticks": "",
           "title": {
            "standoff": 15
           },
           "zerolinecolor": "white",
           "zerolinewidth": 2
          }
         }
        },
        "title": {
         "text": "Points Earned Over Time"
        },
        "xaxis": {
         "anchor": "y",
         "domain": [
          0,
          1
         ],
         "title": {
          "text": "Date"
         }
        },
        "yaxis": {
         "anchor": "x",
         "domain": [
          0,
          1
         ],
         "title": {
          "text": "Points"
         }
        }
       }
      }
     },
     "metadata": {},
     "output_type": "display_data"
    }
   ],
   "source": [
    "# col1, col2, col3, col4 = st.columns(4)\n",
    "# with col1:\n",
    "#     st.metric(\"Total Points\", f\"{total_points:,.0f}\")\n",
    "# with col2:\n",
    "#     st.metric(\"Chart Hit Rate\", f\"{chart_hit_rate:.1%}\")\n",
    "# with col3:\n",
    "#     st.metric(\"Chart Song Listens\", f\"{chart_listens:,}\")\n",
    "# with col4:\n",
    "#     st.metric(\"Avg Points/Listen\", f\"{avg_points:.1f}\")\n",
    "\n",
    "# Filter controls\n",
    "# st.subheader(\"Filter Results\")\n",
    "# col1, col2, col3 = st.columns(3)\n",
    "# with col1:\n",
    "#     show_only_hits = st.checkbox(\"Show only chart hits\", value=False)\n",
    "# with col2:\n",
    "#     min_points = st.number_input(\"Min points filter\", min_value=0, value=0)\n",
    "# with col3:\n",
    "#     search_artist = st.text_input(\"Search artist\", placeholder=\"Enter artist name...\")\n",
    "\n",
    "# Apply filters\n",
    "# filtered_df = points_df.copy()\n",
    "# if show_only_hits:\n",
    "#     filtered_df = filtered_df[filtered_df['points_awarded'] > 0]\n",
    "# if min_points > 0:\n",
    "#     filtered_df = filtered_df[filtered_df['points_awarded'] >= min_points]\n",
    "# if search_artist:\n",
    "#     filtered_df = filtered_df[filtered_df['artist_name'].str.contains(search_artist, case=False, na=False)]\n",
    "\n",
    "# Display results table\n",
    "# display_df = filtered_df.copy()\n",
    "display_df = points_df.copy()\n",
    "display_df['datetime'] = display_df['datetime'].dt.strftime('%Y-%m-%d %H:%M:%S')\n",
    "display_df = display_df.rename(columns={\n",
    "    'datetime': 'Listen Date/Time',\n",
    "    'artist_name': 'Artist',\n",
    "    'track_name': 'Track',\n",
    "    'points_awarded': 'Points',\n",
    "    'chart_weeks_matched': 'Chart Weeks',\n",
    "    'best_position': 'Best Position'\n",
    "})\n",
    "\n",
    "results_table = pd.DataFrame(\n",
    "    display_df[['Listen Date/Time', 'Artist', 'Track', 'Points', 'Chart Weeks', 'Best Position']],\n",
    ")\n",
    "\n",
    "# st.caption(f\"Showing {len(filtered_df):,} of {len(points_df):,} listening instances\")\n",
    "\n",
    "# # Top-performing songs\n",
    "chart_hits = points_df[points_df['points_awarded'] > 0]\n",
    "if not chart_hits.empty:\n",
    "    # st.subheader(\"Top Performing Songs\")\n",
    "    top_songs = chart_hits.groupby(['artist_name', 'track_name']).agg({\n",
    "        'points_awarded': 'sum',\n",
    "        'chart_weeks_matched': 'mean',\n",
    "        'datetime': 'count'\n",
    "    }).reset_index()\n",
    "    top_songs.columns = ['Artist', 'Track', 'Total Points', 'Avg Chart Weeks', 'Listen Count']\n",
    "    top_songs = top_songs.sort_values('Total Points', ascending=False).head(10)\n",
    "\n",
    "top_performing_songs = pd.DataFrame(top_songs)\n",
    "\n",
    "#     # Charts\n",
    "#     col1, col2 = st.columns(2)\n",
    "\n",
    "#     with col1:\n",
    "daily_points = chart_hits.copy()\n",
    "daily_points['date'] = daily_points['datetime'].dt.date\n",
    "daily_summary = daily_points.groupby('date')['points_awarded'].sum().reset_index()\n",
    "\n",
    "# fig_timeline =\n",
    "px.line(\n",
    "    daily_summary,\n",
    "    x='date',\n",
    "    y='points_awarded',\n",
    "    title='Points Earned Over Time',\n",
    "    labels={'points_awarded': 'Points', 'date': 'Date'}\n",
    ")\n",
    "# st.plotly_chart(fig_timeline, use_container_width=True)\n",
    "\n",
    "#     with col2:\n",
    "#         artist_points = chart_hits.groupby('artist_name')['points_awarded'].sum().sort_values(ascending=True).tail(10)\n",
    "#         fig_artists = px.bar(\n",
    "#             x=artist_points.values,\n",
    "#             y=artist_points.index,\n",
    "#             orientation='h',\n",
    "#             title='Top 10 Artists by Points',\n",
    "#             labels={'x': 'Total Points', 'y': 'Artist'}\n",
    "#         )\n",
    "#         st.plotly_chart(fig_artists, use_container_width=True)"
   ]
  },
  {
   "cell_type": "code",
   "execution_count": 86,
   "id": "cbd796c5",
   "metadata": {},
   "outputs": [
    {
     "data": {
      "application/vnd.plotly.v1+json": {
       "config": {
        "plotlyServerURL": "https://plot.ly"
       },
       "data": [
        {
         "alignmentgroup": "True",
         "hovertemplate": "Total Points=%{x}<br>Artist=%{y}<extra></extra>",
         "legendgroup": "",
         "marker": {
          "color": "#636efa",
          "pattern": {
           "shape": ""
          }
         },
         "name": "",
         "offsetgroup": "",
         "orientation": "h",
         "showlegend": false,
         "textposition": "auto",
         "type": "bar",
         "x": [
          20868,
          28514,
          30458,
          32114,
          37165,
          44973,
          49278,
          52805,
          57103,
          96992
         ],
         "xaxis": "x",
         "y": [
          "gigi perez",
          "stormzy",
          "noah kahan",
          "harry styles",
          "benson boone",
          "hozier",
          "teddy swims",
          "olivia rodrigo",
          "billie eilish",
          "taylor swift"
         ],
         "yaxis": "y"
        }
       ],
       "layout": {
        "barmode": "relative",
        "legend": {
         "tracegroupgap": 0
        },
        "template": {
         "data": {
          "bar": [
           {
            "error_x": {
             "color": "#2a3f5f"
            },
            "error_y": {
             "color": "#2a3f5f"
            },
            "marker": {
             "line": {
              "color": "#E5ECF6",
              "width": 0.5
             },
             "pattern": {
              "fillmode": "overlay",
              "size": 10,
              "solidity": 0.2
             }
            },
            "type": "bar"
           }
          ],
          "barpolar": [
           {
            "marker": {
             "line": {
              "color": "#E5ECF6",
              "width": 0.5
             },
             "pattern": {
              "fillmode": "overlay",
              "size": 10,
              "solidity": 0.2
             }
            },
            "type": "barpolar"
           }
          ],
          "carpet": [
           {
            "aaxis": {
             "endlinecolor": "#2a3f5f",
             "gridcolor": "white",
             "linecolor": "white",
             "minorgridcolor": "white",
             "startlinecolor": "#2a3f5f"
            },
            "baxis": {
             "endlinecolor": "#2a3f5f",
             "gridcolor": "white",
             "linecolor": "white",
             "minorgridcolor": "white",
             "startlinecolor": "#2a3f5f"
            },
            "type": "carpet"
           }
          ],
          "choropleth": [
           {
            "colorbar": {
             "outlinewidth": 0,
             "ticks": ""
            },
            "type": "choropleth"
           }
          ],
          "contour": [
           {
            "colorbar": {
             "outlinewidth": 0,
             "ticks": ""
            },
            "colorscale": [
             [
              0,
              "#0d0887"
             ],
             [
              0.1111111111111111,
              "#46039f"
             ],
             [
              0.2222222222222222,
              "#7201a8"
             ],
             [
              0.3333333333333333,
              "#9c179e"
             ],
             [
              0.4444444444444444,
              "#bd3786"
             ],
             [
              0.5555555555555556,
              "#d8576b"
             ],
             [
              0.6666666666666666,
              "#ed7953"
             ],
             [
              0.7777777777777778,
              "#fb9f3a"
             ],
             [
              0.8888888888888888,
              "#fdca26"
             ],
             [
              1,
              "#f0f921"
             ]
            ],
            "type": "contour"
           }
          ],
          "contourcarpet": [
           {
            "colorbar": {
             "outlinewidth": 0,
             "ticks": ""
            },
            "type": "contourcarpet"
           }
          ],
          "heatmap": [
           {
            "colorbar": {
             "outlinewidth": 0,
             "ticks": ""
            },
            "colorscale": [
             [
              0,
              "#0d0887"
             ],
             [
              0.1111111111111111,
              "#46039f"
             ],
             [
              0.2222222222222222,
              "#7201a8"
             ],
             [
              0.3333333333333333,
              "#9c179e"
             ],
             [
              0.4444444444444444,
              "#bd3786"
             ],
             [
              0.5555555555555556,
              "#d8576b"
             ],
             [
              0.6666666666666666,
              "#ed7953"
             ],
             [
              0.7777777777777778,
              "#fb9f3a"
             ],
             [
              0.8888888888888888,
              "#fdca26"
             ],
             [
              1,
              "#f0f921"
             ]
            ],
            "type": "heatmap"
           }
          ],
          "heatmapgl": [
           {
            "colorbar": {
             "outlinewidth": 0,
             "ticks": ""
            },
            "colorscale": [
             [
              0,
              "#0d0887"
             ],
             [
              0.1111111111111111,
              "#46039f"
             ],
             [
              0.2222222222222222,
              "#7201a8"
             ],
             [
              0.3333333333333333,
              "#9c179e"
             ],
             [
              0.4444444444444444,
              "#bd3786"
             ],
             [
              0.5555555555555556,
              "#d8576b"
             ],
             [
              0.6666666666666666,
              "#ed7953"
             ],
             [
              0.7777777777777778,
              "#fb9f3a"
             ],
             [
              0.8888888888888888,
              "#fdca26"
             ],
             [
              1,
              "#f0f921"
             ]
            ],
            "type": "heatmapgl"
           }
          ],
          "histogram": [
           {
            "marker": {
             "pattern": {
              "fillmode": "overlay",
              "size": 10,
              "solidity": 0.2
             }
            },
            "type": "histogram"
           }
          ],
          "histogram2d": [
           {
            "colorbar": {
             "outlinewidth": 0,
             "ticks": ""
            },
            "colorscale": [
             [
              0,
              "#0d0887"
             ],
             [
              0.1111111111111111,
              "#46039f"
             ],
             [
              0.2222222222222222,
              "#7201a8"
             ],
             [
              0.3333333333333333,
              "#9c179e"
             ],
             [
              0.4444444444444444,
              "#bd3786"
             ],
             [
              0.5555555555555556,
              "#d8576b"
             ],
             [
              0.6666666666666666,
              "#ed7953"
             ],
             [
              0.7777777777777778,
              "#fb9f3a"
             ],
             [
              0.8888888888888888,
              "#fdca26"
             ],
             [
              1,
              "#f0f921"
             ]
            ],
            "type": "histogram2d"
           }
          ],
          "histogram2dcontour": [
           {
            "colorbar": {
             "outlinewidth": 0,
             "ticks": ""
            },
            "colorscale": [
             [
              0,
              "#0d0887"
             ],
             [
              0.1111111111111111,
              "#46039f"
             ],
             [
              0.2222222222222222,
              "#7201a8"
             ],
             [
              0.3333333333333333,
              "#9c179e"
             ],
             [
              0.4444444444444444,
              "#bd3786"
             ],
             [
              0.5555555555555556,
              "#d8576b"
             ],
             [
              0.6666666666666666,
              "#ed7953"
             ],
             [
              0.7777777777777778,
              "#fb9f3a"
             ],
             [
              0.8888888888888888,
              "#fdca26"
             ],
             [
              1,
              "#f0f921"
             ]
            ],
            "type": "histogram2dcontour"
           }
          ],
          "mesh3d": [
           {
            "colorbar": {
             "outlinewidth": 0,
             "ticks": ""
            },
            "type": "mesh3d"
           }
          ],
          "parcoords": [
           {
            "line": {
             "colorbar": {
              "outlinewidth": 0,
              "ticks": ""
             }
            },
            "type": "parcoords"
           }
          ],
          "pie": [
           {
            "automargin": true,
            "type": "pie"
           }
          ],
          "scatter": [
           {
            "fillpattern": {
             "fillmode": "overlay",
             "size": 10,
             "solidity": 0.2
            },
            "type": "scatter"
           }
          ],
          "scatter3d": [
           {
            "line": {
             "colorbar": {
              "outlinewidth": 0,
              "ticks": ""
             }
            },
            "marker": {
             "colorbar": {
              "outlinewidth": 0,
              "ticks": ""
             }
            },
            "type": "scatter3d"
           }
          ],
          "scattercarpet": [
           {
            "marker": {
             "colorbar": {
              "outlinewidth": 0,
              "ticks": ""
             }
            },
            "type": "scattercarpet"
           }
          ],
          "scattergeo": [
           {
            "marker": {
             "colorbar": {
              "outlinewidth": 0,
              "ticks": ""
             }
            },
            "type": "scattergeo"
           }
          ],
          "scattergl": [
           {
            "marker": {
             "colorbar": {
              "outlinewidth": 0,
              "ticks": ""
             }
            },
            "type": "scattergl"
           }
          ],
          "scattermapbox": [
           {
            "marker": {
             "colorbar": {
              "outlinewidth": 0,
              "ticks": ""
             }
            },
            "type": "scattermapbox"
           }
          ],
          "scatterpolar": [
           {
            "marker": {
             "colorbar": {
              "outlinewidth": 0,
              "ticks": ""
             }
            },
            "type": "scatterpolar"
           }
          ],
          "scatterpolargl": [
           {
            "marker": {
             "colorbar": {
              "outlinewidth": 0,
              "ticks": ""
             }
            },
            "type": "scatterpolargl"
           }
          ],
          "scatterternary": [
           {
            "marker": {
             "colorbar": {
              "outlinewidth": 0,
              "ticks": ""
             }
            },
            "type": "scatterternary"
           }
          ],
          "surface": [
           {
            "colorbar": {
             "outlinewidth": 0,
             "ticks": ""
            },
            "colorscale": [
             [
              0,
              "#0d0887"
             ],
             [
              0.1111111111111111,
              "#46039f"
             ],
             [
              0.2222222222222222,
              "#7201a8"
             ],
             [
              0.3333333333333333,
              "#9c179e"
             ],
             [
              0.4444444444444444,
              "#bd3786"
             ],
             [
              0.5555555555555556,
              "#d8576b"
             ],
             [
              0.6666666666666666,
              "#ed7953"
             ],
             [
              0.7777777777777778,
              "#fb9f3a"
             ],
             [
              0.8888888888888888,
              "#fdca26"
             ],
             [
              1,
              "#f0f921"
             ]
            ],
            "type": "surface"
           }
          ],
          "table": [
           {
            "cells": {
             "fill": {
              "color": "#EBF0F8"
             },
             "line": {
              "color": "white"
             }
            },
            "header": {
             "fill": {
              "color": "#C8D4E3"
             },
             "line": {
              "color": "white"
             }
            },
            "type": "table"
           }
          ]
         },
         "layout": {
          "annotationdefaults": {
           "arrowcolor": "#2a3f5f",
           "arrowhead": 0,
           "arrowwidth": 1
          },
          "autotypenumbers": "strict",
          "coloraxis": {
           "colorbar": {
            "outlinewidth": 0,
            "ticks": ""
           }
          },
          "colorscale": {
           "diverging": [
            [
             0,
             "#8e0152"
            ],
            [
             0.1,
             "#c51b7d"
            ],
            [
             0.2,
             "#de77ae"
            ],
            [
             0.3,
             "#f1b6da"
            ],
            [
             0.4,
             "#fde0ef"
            ],
            [
             0.5,
             "#f7f7f7"
            ],
            [
             0.6,
             "#e6f5d0"
            ],
            [
             0.7,
             "#b8e186"
            ],
            [
             0.8,
             "#7fbc41"
            ],
            [
             0.9,
             "#4d9221"
            ],
            [
             1,
             "#276419"
            ]
           ],
           "sequential": [
            [
             0,
             "#0d0887"
            ],
            [
             0.1111111111111111,
             "#46039f"
            ],
            [
             0.2222222222222222,
             "#7201a8"
            ],
            [
             0.3333333333333333,
             "#9c179e"
            ],
            [
             0.4444444444444444,
             "#bd3786"
            ],
            [
             0.5555555555555556,
             "#d8576b"
            ],
            [
             0.6666666666666666,
             "#ed7953"
            ],
            [
             0.7777777777777778,
             "#fb9f3a"
            ],
            [
             0.8888888888888888,
             "#fdca26"
            ],
            [
             1,
             "#f0f921"
            ]
           ],
           "sequentialminus": [
            [
             0,
             "#0d0887"
            ],
            [
             0.1111111111111111,
             "#46039f"
            ],
            [
             0.2222222222222222,
             "#7201a8"
            ],
            [
             0.3333333333333333,
             "#9c179e"
            ],
            [
             0.4444444444444444,
             "#bd3786"
            ],
            [
             0.5555555555555556,
             "#d8576b"
            ],
            [
             0.6666666666666666,
             "#ed7953"
            ],
            [
             0.7777777777777778,
             "#fb9f3a"
            ],
            [
             0.8888888888888888,
             "#fdca26"
            ],
            [
             1,
             "#f0f921"
            ]
           ]
          },
          "colorway": [
           "#636efa",
           "#EF553B",
           "#00cc96",
           "#ab63fa",
           "#FFA15A",
           "#19d3f3",
           "#FF6692",
           "#B6E880",
           "#FF97FF",
           "#FECB52"
          ],
          "font": {
           "color": "#2a3f5f"
          },
          "geo": {
           "bgcolor": "white",
           "lakecolor": "white",
           "landcolor": "#E5ECF6",
           "showlakes": true,
           "showland": true,
           "subunitcolor": "white"
          },
          "hoverlabel": {
           "align": "left"
          },
          "hovermode": "closest",
          "mapbox": {
           "style": "light"
          },
          "paper_bgcolor": "white",
          "plot_bgcolor": "#E5ECF6",
          "polar": {
           "angularaxis": {
            "gridcolor": "white",
            "linecolor": "white",
            "ticks": ""
           },
           "bgcolor": "#E5ECF6",
           "radialaxis": {
            "gridcolor": "white",
            "linecolor": "white",
            "ticks": ""
           }
          },
          "scene": {
           "xaxis": {
            "backgroundcolor": "#E5ECF6",
            "gridcolor": "white",
            "gridwidth": 2,
            "linecolor": "white",
            "showbackground": true,
            "ticks": "",
            "zerolinecolor": "white"
           },
           "yaxis": {
            "backgroundcolor": "#E5ECF6",
            "gridcolor": "white",
            "gridwidth": 2,
            "linecolor": "white",
            "showbackground": true,
            "ticks": "",
            "zerolinecolor": "white"
           },
           "zaxis": {
            "backgroundcolor": "#E5ECF6",
            "gridcolor": "white",
            "gridwidth": 2,
            "linecolor": "white",
            "showbackground": true,
            "ticks": "",
            "zerolinecolor": "white"
           }
          },
          "shapedefaults": {
           "line": {
            "color": "#2a3f5f"
           }
          },
          "ternary": {
           "aaxis": {
            "gridcolor": "white",
            "linecolor": "white",
            "ticks": ""
           },
           "baxis": {
            "gridcolor": "white",
            "linecolor": "white",
            "ticks": ""
           },
           "bgcolor": "#E5ECF6",
           "caxis": {
            "gridcolor": "white",
            "linecolor": "white",
            "ticks": ""
           }
          },
          "title": {
           "x": 0.05
          },
          "xaxis": {
           "automargin": true,
           "gridcolor": "white",
           "linecolor": "white",
           "ticks": "",
           "title": {
            "standoff": 15
           },
           "zerolinecolor": "white",
           "zerolinewidth": 2
          },
          "yaxis": {
           "automargin": true,
           "gridcolor": "white",
           "linecolor": "white",
           "ticks": "",
           "title": {
            "standoff": 15
           },
           "zerolinecolor": "white",
           "zerolinewidth": 2
          }
         }
        },
        "title": {
         "text": "Top 10 Artists by Points"
        },
        "xaxis": {
         "anchor": "y",
         "domain": [
          0,
          1
         ],
         "title": {
          "text": "Total Points"
         }
        },
        "yaxis": {
         "anchor": "x",
         "domain": [
          0,
          1
         ],
         "title": {
          "text": "Artist"
         }
        }
       }
      }
     },
     "metadata": {},
     "output_type": "display_data"
    }
   ],
   "source": [
    "artist_points = chart_hits.groupby('artist_name')['points_awarded'].sum().sort_values(ascending=True).tail(10)\n",
    "px.bar(\n",
    "            x=artist_points.values,\n",
    "            y=artist_points.index,\n",
    "            orientation='h',\n",
    "            title='Top 10 Artists by Points',\n",
    "            labels={'x': 'Total Points', 'y': 'Artist'})"
   ]
  },
  {
   "cell_type": "code",
   "execution_count": 4,
   "id": "17154972",
   "metadata": {},
   "outputs": [],
   "source": [
    "# FULL AND FINISHED SCORER\n",
    "import pandas as pd\n",
    "import pickle\n",
    "from datetime import datetime, timedelta\n",
    "\n",
    "listening_df = pd.read_csv(\"datasets/user_clean/Hugh_20250603_164831.csv\")\n",
    "charts_df = pd.read_csv(\"datasets/info_clean/info_charts_weighted.csv\")\n",
    "\n",
    "# Clean and convert datetime columns\n",
    "listening_df[\"datetime\"] = pd.to_datetime(listening_df[\"datetime\"]).dt.tz_localize(None)\n",
    "charts_df['weekdate'] = pd.to_datetime(charts_df['weekdate'], errors='coerce')\n",
    "charts_df = charts_df.dropna(subset=['weekdate'])\n",
    "listening_df['artist_name'] = listening_df['artist_name'].fillna('').str.lower().str.strip()\n",
    "listening_df['track_name'] = listening_df['track_name'].fillna('').str.lower().str.strip()\n",
    "\n",
    "# Window sizes\n",
    "window_size = [365, 182, 91, 61, 30, 7]\n",
    "\n",
    "# To store all results\n",
    "all_points_dfs = {}\n",
    "summary_stats = {}\n",
    "\n",
    "for w in window_size:\n",
    "    results = []\n",
    "\n",
    "    for idx, listen_row in listening_df.iterrows():\n",
    "        listen_datetime = listen_row['datetime']\n",
    "        artist = listen_row['artist_name']\n",
    "        track = listen_row['track_name']\n",
    "\n",
    "        window_start = pd.Timestamp(listen_datetime - timedelta(days=w))\n",
    "        window_end = pd.Timestamp(listen_datetime)\n",
    "\n",
    "        chart_matches = charts_df[\n",
    "            (charts_df['artist_name'] == artist) &\n",
    "            (charts_df['track_name'] == track) &\n",
    "            (charts_df['weekdate'] >= window_start) &\n",
    "            (charts_df['weekdate'] <= window_end)\n",
    "        ]\n",
    "\n",
    "        total_points = chart_matches['weighting'].sum() if not chart_matches.empty else 0\n",
    "\n",
    "        results.append({\n",
    "            'datetime': listen_datetime,\n",
    "            'artist_name': artist,\n",
    "            'track_name': track,\n",
    "            'points_awarded': total_points,\n",
    "            'chart_weeks_matched': len(chart_matches),\n",
    "            'best_position': chart_matches['position'].min() if not chart_matches.empty else None\n",
    "        })\n",
    "\n",
    "    # Big old results dataframe\n",
    "    df = pd.DataFrame(results)\n",
    "    all_points_dfs[f'points_df_{w}'] = df\n",
    "\n",
    "    # Agg stats\n",
    "    total_listens = len(df)\n",
    "    chart_listens = len(df[df['points_awarded'] > 0])\n",
    "    total_points = df['points_awarded'].sum()\n",
    "    avg_points = df['points_awarded'].mean()\n",
    "    chart_hit_rate = chart_listens / total_listens if total_listens > 0 else 0\n",
    "\n",
    "    summary_stats[f'summary_{w}'] = {\n",
    "        'total_listens': total_listens,\n",
    "        'chart_listens': chart_listens,\n",
    "        'total_points': total_points,\n",
    "        'avg_points': avg_points,\n",
    "        'chart_hit_rate': chart_hit_rate\n",
    "    }\n",
    "\n",
    "# Save the PICKLE!!!!\n",
    "with open(\"datasets/chart_scores/Hugh_20250603_164831_all_points.pkl\", \"wb\") as f:\n",
    "    pickle.dump(all_points_dfs, f)\n",
    "with open(f\"datasets/chart_scores/Hugh_20250603_164831_summary_stats.pkl\", \"wb\") as f:\n",
    "    pickle.dump(summary_stats, f)"
   ]
  },
  {
   "cell_type": "code",
   "execution_count": null,
   "id": "b9ca5144",
   "metadata": {},
   "outputs": [
    {
     "data": {
      "text/plain": [
       "'ReRe_20250602_164123'"
      ]
     },
     "execution_count": 118,
     "metadata": {},
     "output_type": "execute_result"
    }
   ],
   "source": [
    "# File path variable\n",
    "\n",
    "import os\n",
    "from pathlib import Path\n",
    "file_path = Path(\"datasets/user_clean/ReRe_20250602_164123.csv\")\n",
    "file_stem = file_path.stem\n",
    "file_stem"
   ]
  },
  {
   "cell_type": "code",
   "execution_count": 4,
   "id": "fe0a3e24",
   "metadata": {},
   "outputs": [],
   "source": [
    "with open(\"datasets/chart_scores/Benjie_20250603_144404_all_points.pkl\", \"rb\") as f:\n",
    "    all_points_dfs = pickle.load(f)\n",
    "with open(\"datasets/chart_scores/Benjie_20250603_144404_summary_stats.pkl\", \"rb\") as f:\n",
    "    summary_stats = pickle.load(f)"
   ]
  },
  {
   "cell_type": "code",
   "execution_count": 6,
   "id": "2497ecda",
   "metadata": {},
   "outputs": [
    {
     "name": "stdout",
     "output_type": "stream",
     "text": [
      "{'points_df_365':                  datetime artist_name track_name  points_awarded  \\\n",
      "0     2023-12-20 14:02:38                                      0   \n",
      "1     2023-12-21 09:43:03                                      0   \n",
      "2     2023-12-21 09:54:35                                      0   \n",
      "3     2023-12-21 10:06:01                                      0   \n",
      "4     2023-12-21 10:18:03                                      0   \n",
      "...                   ...         ...        ...             ...   \n",
      "57802 2023-12-20 10:36:48                                      0   \n",
      "57803 2023-12-20 10:47:26                                      0   \n",
      "57804 2023-12-20 10:59:39                                      0   \n",
      "57805 2023-12-20 11:03:47                                      0   \n",
      "57806 2023-12-20 11:31:51                                      0   \n",
      "\n",
      "       chart_weeks_matched  best_position  \n",
      "0                        0            NaN  \n",
      "1                        0            NaN  \n",
      "2                        0            NaN  \n",
      "3                        0            NaN  \n",
      "4                        0            NaN  \n",
      "...                    ...            ...  \n",
      "57802                    0            NaN  \n",
      "57803                    0            NaN  \n",
      "57804                    0            NaN  \n",
      "57805                    0            NaN  \n",
      "57806                    0            NaN  \n",
      "\n",
      "[57807 rows x 6 columns], 'points_df_182':                  datetime artist_name track_name  points_awarded  \\\n",
      "0     2023-12-20 14:02:38                                      0   \n",
      "1     2023-12-21 09:43:03                                      0   \n",
      "2     2023-12-21 09:54:35                                      0   \n",
      "3     2023-12-21 10:06:01                                      0   \n",
      "4     2023-12-21 10:18:03                                      0   \n",
      "...                   ...         ...        ...             ...   \n",
      "57802 2023-12-20 10:36:48                                      0   \n",
      "57803 2023-12-20 10:47:26                                      0   \n",
      "57804 2023-12-20 10:59:39                                      0   \n",
      "57805 2023-12-20 11:03:47                                      0   \n",
      "57806 2023-12-20 11:31:51                                      0   \n",
      "\n",
      "       chart_weeks_matched  best_position  \n",
      "0                        0            NaN  \n",
      "1                        0            NaN  \n",
      "2                        0            NaN  \n",
      "3                        0            NaN  \n",
      "4                        0            NaN  \n",
      "...                    ...            ...  \n",
      "57802                    0            NaN  \n",
      "57803                    0            NaN  \n",
      "57804                    0            NaN  \n",
      "57805                    0            NaN  \n",
      "57806                    0            NaN  \n",
      "\n",
      "[57807 rows x 6 columns], 'points_df_91':                  datetime artist_name track_name  points_awarded  \\\n",
      "0     2023-12-20 14:02:38                                      0   \n",
      "1     2023-12-21 09:43:03                                      0   \n",
      "2     2023-12-21 09:54:35                                      0   \n",
      "3     2023-12-21 10:06:01                                      0   \n",
      "4     2023-12-21 10:18:03                                      0   \n",
      "...                   ...         ...        ...             ...   \n",
      "57802 2023-12-20 10:36:48                                      0   \n",
      "57803 2023-12-20 10:47:26                                      0   \n",
      "57804 2023-12-20 10:59:39                                      0   \n",
      "57805 2023-12-20 11:03:47                                      0   \n",
      "57806 2023-12-20 11:31:51                                      0   \n",
      "\n",
      "       chart_weeks_matched  best_position  \n",
      "0                        0            NaN  \n",
      "1                        0            NaN  \n",
      "2                        0            NaN  \n",
      "3                        0            NaN  \n",
      "4                        0            NaN  \n",
      "...                    ...            ...  \n",
      "57802                    0            NaN  \n",
      "57803                    0            NaN  \n",
      "57804                    0            NaN  \n",
      "57805                    0            NaN  \n",
      "57806                    0            NaN  \n",
      "\n",
      "[57807 rows x 6 columns], 'points_df_61':                  datetime artist_name track_name  points_awarded  \\\n",
      "0     2023-12-20 14:02:38                                      0   \n",
      "1     2023-12-21 09:43:03                                      0   \n",
      "2     2023-12-21 09:54:35                                      0   \n",
      "3     2023-12-21 10:06:01                                      0   \n",
      "4     2023-12-21 10:18:03                                      0   \n",
      "...                   ...         ...        ...             ...   \n",
      "57802 2023-12-20 10:36:48                                      0   \n",
      "57803 2023-12-20 10:47:26                                      0   \n",
      "57804 2023-12-20 10:59:39                                      0   \n",
      "57805 2023-12-20 11:03:47                                      0   \n",
      "57806 2023-12-20 11:31:51                                      0   \n",
      "\n",
      "       chart_weeks_matched  best_position  \n",
      "0                        0            NaN  \n",
      "1                        0            NaN  \n",
      "2                        0            NaN  \n",
      "3                        0            NaN  \n",
      "4                        0            NaN  \n",
      "...                    ...            ...  \n",
      "57802                    0            NaN  \n",
      "57803                    0            NaN  \n",
      "57804                    0            NaN  \n",
      "57805                    0            NaN  \n",
      "57806                    0            NaN  \n",
      "\n",
      "[57807 rows x 6 columns], 'points_df_30':                  datetime artist_name track_name  points_awarded  \\\n",
      "0     2023-12-20 14:02:38                                      0   \n",
      "1     2023-12-21 09:43:03                                      0   \n",
      "2     2023-12-21 09:54:35                                      0   \n",
      "3     2023-12-21 10:06:01                                      0   \n",
      "4     2023-12-21 10:18:03                                      0   \n",
      "...                   ...         ...        ...             ...   \n",
      "57802 2023-12-20 10:36:48                                      0   \n",
      "57803 2023-12-20 10:47:26                                      0   \n",
      "57804 2023-12-20 10:59:39                                      0   \n",
      "57805 2023-12-20 11:03:47                                      0   \n",
      "57806 2023-12-20 11:31:51                                      0   \n",
      "\n",
      "       chart_weeks_matched  best_position  \n",
      "0                        0            NaN  \n",
      "1                        0            NaN  \n",
      "2                        0            NaN  \n",
      "3                        0            NaN  \n",
      "4                        0            NaN  \n",
      "...                    ...            ...  \n",
      "57802                    0            NaN  \n",
      "57803                    0            NaN  \n",
      "57804                    0            NaN  \n",
      "57805                    0            NaN  \n",
      "57806                    0            NaN  \n",
      "\n",
      "[57807 rows x 6 columns], 'points_df_7':                  datetime artist_name track_name  points_awarded  \\\n",
      "0     2023-12-20 14:02:38                                      0   \n",
      "1     2023-12-21 09:43:03                                      0   \n",
      "2     2023-12-21 09:54:35                                      0   \n",
      "3     2023-12-21 10:06:01                                      0   \n",
      "4     2023-12-21 10:18:03                                      0   \n",
      "...                   ...         ...        ...             ...   \n",
      "57802 2023-12-20 10:36:48                                      0   \n",
      "57803 2023-12-20 10:47:26                                      0   \n",
      "57804 2023-12-20 10:59:39                                      0   \n",
      "57805 2023-12-20 11:03:47                                      0   \n",
      "57806 2023-12-20 11:31:51                                      0   \n",
      "\n",
      "       chart_weeks_matched  best_position  \n",
      "0                        0            NaN  \n",
      "1                        0            NaN  \n",
      "2                        0            NaN  \n",
      "3                        0            NaN  \n",
      "4                        0            NaN  \n",
      "...                    ...            ...  \n",
      "57802                    0            NaN  \n",
      "57803                    0            NaN  \n",
      "57804                    0            NaN  \n",
      "57805                    0            NaN  \n",
      "57806                    0            NaN  \n",
      "\n",
      "[57807 rows x 6 columns]}\n"
     ]
    }
   ],
   "source": [
    "print(all_points_dfs)"
   ]
  },
  {
   "cell_type": "code",
   "execution_count": null,
   "metadata": {},
   "outputs": [],
   "source": []
  }
 ],
 "metadata": {
  "kernelspec": {
   "display_name": "charlie-venv",
   "language": "python",
   "name": "python3"
  },
  "language_info": {
   "codemirror_mode": {
    "name": "ipython",
    "version": 3
   },
   "file_extension": ".py",
   "mimetype": "text/x-python",
   "name": "python",
   "nbconvert_exporter": "python",
   "pygments_lexer": "ipython3",
   "version": "3.12.9"
  }
 },
 "nbformat": 4,
 "nbformat_minor": 5
}
