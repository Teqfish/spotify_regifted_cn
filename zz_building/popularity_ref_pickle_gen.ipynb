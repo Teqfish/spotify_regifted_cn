{
 "cells": [
  {
   "cell_type": "code",
   "execution_count": 2,
   "id": "d7e60ecb",
   "metadata": {},
   "outputs": [],
   "source": [
    "import pandas as pd\n",
    "import os\n",
    "import pickle"
   ]
  },
  {
   "cell_type": "code",
   "execution_count": null,
   "id": "3968d4b6",
   "metadata": {},
   "outputs": [],
   "source": [
    "ref_pickle = \"datasets/popularity_reference.pkl\"\n",
    "\n",
    "def process_and_store_user_data(csv_filepath, user_id):\n",
    "    # Load user data\n",
    "    df = pd.read_csv(csv_filepath)\n",
    "\n",
    "    # Convert datetime and extract week\n",
    "    df['datetime'] = pd.to_datetime(df['datetime'])\n",
    "    df['year_week'] = df['datetime'].dt.to_period('W').apply(lambda r: r.start_time)\n",
    "\n",
    "    # Calculate weekly popularity\n",
    "    weekly_artist_pop = df.groupby('year_week')['artist_popularity'].mean().reset_index(name='artist_popularity')\n",
    "    weekly_track_pop = df.groupby('year_week')['track_popularity'].mean().reset_index(name='track_popularity')\n",
    "\n",
    "    # Merge\n",
    "    weekly_df = pd.merge(weekly_artist_pop, weekly_track_pop, on='year_week')\n",
    "    weekly_df['user_id'] = user_id\n",
    "\n",
    "    # Load or initialize reference file\n",
    "    if os.path.exists(ref_pickle):\n",
    "        with open(ref_pickle, \"rb\") as f:\n",
    "            reference_df = pickle.load(f)\n",
    "    else:\n",
    "        reference_df = pd.DataFrame()\n",
    "\n",
    "    # Append new data and save\n",
    "    reference_df = pd.concat([reference_df, weekly_df], ignore_index=True)\n",
    "\n",
    "    with open(ref_pickle, \"wb\") as f:\n",
    "        pickle.dump(reference_df, f)\n",
    "\n",
    "    return weekly_df  # Return current user's processed data"
   ]
  },
  {
   "cell_type": "code",
   "execution_count": null,
   "id": "6a3e84e7",
   "metadata": {},
   "outputs": [],
   "source": [
    "import plotly.graph_objects as go\n",
    "import streamlit as st\n",
    "\n",
    "def display_popularity_comparison(user_id, user_df):\n",
    "    # Load reference data\n",
    "    with open(ref_pickle, \"rb\") as f:\n",
    "        reference_df = pickle.load(f)\n",
    "\n",
    "    # Filter out the current user\n",
    "    other_users_df = reference_df[reference_df['user_id'] != user_id]\n",
    "\n",
    "    # Average weekly popularity across users\n",
    "    avg_ref_df = other_users_df.groupby('year_week')[['artist_popularity', 'track_popularity']].mean().reset_index()\n",
    "\n",
    "    # Sort both\n",
    "    user_df = user_df.sort_values(\"year_week\")\n",
    "    avg_ref_df = avg_ref_df.sort_values(\"year_week\")\n",
    "\n",
    "    # Plot\n",
    "    fig = go.Figure()\n",
    "\n",
    "    # User lines\n",
    "    fig.add_trace(go.Scatter(\n",
    "        x=user_df['year_week'], y=user_df['artist_popularity'],\n",
    "        mode='lines+markers', name=f'{user_id} Artist Popularity',\n",
    "        line=dict(color='dodgerblue'), hovertemplate='Week: %{x|%d %b %Y}<br>Artist: %{y:.1f}<extra></extra>'\n",
    "    ))\n",
    "    fig.add_trace(go.Scatter(\n",
    "        x=user_df['year_week'], y=user_df['track_popularity'],\n",
    "        mode='lines+markers', name=f'{user_id} Track Popularity',\n",
    "        line=dict(color='royalblue'), hovertemplate='Week: %{x|%d %b %Y}<br>Track: %{y:.1f}<extra></extra>'\n",
    "    ))\n",
    "\n",
    "    # Reference lines\n",
    "    fig.add_trace(go.Scatter(\n",
    "        x=avg_ref_df['year_week'], y=avg_ref_df['artist_popularity'],\n",
    "        mode='lines', name='Avg Artist Popularity',\n",
    "        line=dict(dash='dash', color='darkgreen')\n",
    "    ))\n",
    "    fig.add_trace(go.Scatter(\n",
    "        x=avg_ref_df['year_week'], y=avg_ref_df['track_popularity'],\n",
    "        mode='lines', name='Avg Track Popularity',\n",
    "        line=dict(dash='dash', color='green')\n",
    "    ))\n",
    "\n",
    "    fig.update_layout(\n",
    "        title=f'Popularity Comparison for {user_id}',\n",
    "        xaxis_title='Week',\n",
    "        yaxis_title='Average Popularity',\n",
    "        hovermode=\"x unified\"\n",
    "    )\n",
    "\n",
    "    st.plotly_chart(fig, use_container_width=True)\n"
   ]
  },
  {
   "cell_type": "code",
   "execution_count": null,
   "id": "e34ed5f6",
   "metadata": {},
   "outputs": [],
   "source": [
    "uploaded_file = st.file_uploader(\"Upload your listening history CSV\", type=[\"csv\"])\n",
    "user_id = st.text_input(\"Enter your user ID\")\n",
    "\n",
    "if uploaded_file and user_id:\n",
    "    timestamp_suffix = pd.Timestamp.now().strftime(\"%Y%m%d%H%M%S\")\n",
    "    csv_filepath = f\"datasets/{user_id}_{timestamp_suffix}.csv\"\n",
    "\n",
    "    with open(csv_filepath, \"wb\") as f:\n",
    "        f.write(uploaded_file.read())\n",
    "\n",
    "    user_df = process_and_store_user_data(csv_filepath, user_id)\n",
    "    display_popularity_comparison(user_id, user_df)\n"
   ]
  },
  {
   "cell_type": "code",
   "execution_count": 1,
   "id": "76573eaf",
   "metadata": {},
   "outputs": [
    {
     "ename": "NameError",
     "evalue": "name 'pd' is not defined",
     "output_type": "error",
     "traceback": [
      "\u001b[0;31m---------------------------------------------------------------------------\u001b[0m",
      "\u001b[0;31mNameError\u001b[0m                                 Traceback (most recent call last)",
      "Cell \u001b[0;32mIn[1], line 3\u001b[0m\n\u001b[1;32m      1\u001b[0m popularity_ref_pickle \u001b[38;5;241m=\u001b[39m \u001b[38;5;124m\"\u001b[39m\u001b[38;5;124mdatasets/chart_scores/popularity_reference.pkl\u001b[39m\u001b[38;5;124m\"\u001b[39m\n\u001b[0;32m----> 3\u001b[0m df \u001b[38;5;241m=\u001b[39m \u001b[43mpd\u001b[49m\u001b[38;5;241m.\u001b[39mread_csv(\u001b[38;5;124m'\u001b[39m\u001b[38;5;124mdatasets/user_clean/Benjie_20250603_144404.csv\u001b[39m\u001b[38;5;124m'\u001b[39m)\n\u001b[1;32m      4\u001b[0m df_info \u001b[38;5;241m=\u001b[39m pd\u001b[38;5;241m.\u001b[39mread_csv(\u001b[38;5;124m'\u001b[39m\u001b[38;5;124mdatasets/info_clean/trk_alb_art.csv\u001b[39m\u001b[38;5;124m'\u001b[39m)\n\u001b[1;32m      5\u001b[0m user_id \u001b[38;5;241m=\u001b[39m \u001b[38;5;124m\"\u001b[39m\u001b[38;5;124mBenjie\u001b[39m\u001b[38;5;124m\"\u001b[39m\n",
      "\u001b[0;31mNameError\u001b[0m: name 'pd' is not defined"
     ]
    }
   ],
   "source": [
    "popularity_ref_pickle = \"datasets/chart_scores/popularity_reference.pkl\"\n",
    "\n",
    "df = pd.read_csv('datasets/user_clean/Benjie_20250603_144404.csv')\n",
    "df_info = pd.read_csv('datasets/info_clean/trk_alb_art.csv')\n",
    "user_id = \"Benjie\"\n",
    "\n",
    "# join info to current user\n",
    "df = pd.merge(df,df_info,left_on=[\"track_name\",\"album_name\",\"artist_name\"],right_on=[\"track_name\",\"album_name\",\"artist_name\"],how=\"left\",suffixes=[\"\",\"_remove\"])\n",
    "\n",
    "\n",
    "# Ensure datetime is parsed\n",
    "df['datetime'] = pd.to_datetime(df['datetime'])\n",
    "df['year_week'] = df['datetime'].dt.to_period('W').apply(lambda r: r.start_time)\n",
    "\n",
    "# Weekly mean popularity\n",
    "weekly_artist_pop = df.groupby('year_week')['artist_popularity'].mean().reset_index(name='artist_popularity')\n",
    "weekly_track_pop = df.groupby('year_week')['track_popularity'].mean().reset_index(name='track_popularity')\n",
    "\n",
    "weekly_df = pd.merge(weekly_artist_pop, weekly_track_pop, on='year_week')\n",
    "weekly_df['user_id'] = user_id\n",
    "\n",
    "# Append to or create reference pickle\n",
    "if os.path.exists(popularity_ref_pickle):\n",
    "    with open(popularity_ref_pickle, \"rb\") as f:\n",
    "        reference_df = pickle.load(f)\n",
    "else:\n",
    "    reference_df = pd.DataFrame()\n",
    "\n",
    "reference_df = pd.concat([reference_df, weekly_df], ignore_index=True)\n",
    "\n",
    "with open(popularity_ref_pickle, \"wb\") as f:\n",
    "    pickle.dump(reference_df, f)"
   ]
  },
  {
   "cell_type": "code",
   "execution_count": 12,
   "id": "d59cd71b",
   "metadata": {},
   "outputs": [],
   "source": [
    "with open(\"datasets/chart_scores/popularity_reference.pkl\", \"rb\") as f:\n",
    "            pickle_ref = pickle.load(f)"
   ]
  },
  {
   "cell_type": "code",
   "execution_count": 7,
   "id": "cbb4b416",
   "metadata": {},
   "outputs": [
    {
     "ename": "TypeError",
     "evalue": "object of type 'int' has no len()",
     "output_type": "error",
     "traceback": [
      "\u001b[0;31m---------------------------------------------------------------------------\u001b[0m",
      "\u001b[0;31mTypeError\u001b[0m                                 Traceback (most recent call last)",
      "Cell \u001b[0;32mIn[7], line 2\u001b[0m\n\u001b[1;32m      1\u001b[0m df \u001b[38;5;241m=\u001b[39m pd\u001b[38;5;241m.\u001b[39mread_csv(\u001b[38;5;124m'\u001b[39m\u001b[38;5;124mdatasets/user_clean/Benjie_20250603_144404.csv\u001b[39m\u001b[38;5;124m'\u001b[39m)\n\u001b[0;32m----> 2\u001b[0m \u001b[38;5;28;43mlen\u001b[39;49m\u001b[43m(\u001b[49m\u001b[43mdf\u001b[49m\u001b[38;5;241;43m.\u001b[39;49m\u001b[43mshape\u001b[49m\u001b[43m[\u001b[49m\u001b[38;5;241;43m0\u001b[39;49m\u001b[43m]\u001b[49m\u001b[43m)\u001b[49m\n",
      "\u001b[0;31mTypeError\u001b[0m: object of type 'int' has no len()"
     ]
    }
   ],
   "source": [
    "df = pd.read_csv('datasets/user_clean/Benjie_20250603_144404.csv')\n",
    "len(df.shape[0])"
   ]
  },
  {
   "cell_type": "code",
   "execution_count": null,
   "id": "01bf7907",
   "metadata": {},
   "outputs": [],
   "source": []
  }
 ],
 "metadata": {
  "kernelspec": {
   "display_name": "charlie-venv",
   "language": "python",
   "name": "python3"
  },
  "language_info": {
   "codemirror_mode": {
    "name": "ipython",
    "version": 3
   },
   "file_extension": ".py",
   "mimetype": "text/x-python",
   "name": "python",
   "nbconvert_exporter": "python",
   "pygments_lexer": "ipython3",
   "version": "3.12.9"
  }
 },
 "nbformat": 4,
 "nbformat_minor": 5
}
